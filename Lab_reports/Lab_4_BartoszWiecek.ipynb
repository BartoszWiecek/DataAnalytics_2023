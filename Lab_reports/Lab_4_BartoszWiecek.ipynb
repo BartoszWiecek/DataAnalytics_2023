{
 "cells": [
  {
   "attachments": {},
   "cell_type": "markdown",
   "metadata": {},
   "source": [
    "# LABORATORIUM 4 -  Linear models\n",
    "## Bartosz Więcek\n",
    "\n",
    "We focus on models in the form \n",
    "\n",
    "$$ y \\sim \\mathrm{Normal}(\\alpha+X\\beta,\\sigma) $$\n",
    "\n"
   ]
  },
  {
   "cell_type": "code",
   "execution_count": 27,
   "metadata": {},
   "outputs": [],
   "source": [
    "from cmdstanpy import CmdStanModel\n",
    "import seaborn as sns\n",
    "\n",
    "import arviz as az\n",
    "import numpy as np\n",
    "import scipy.stats as stats\n",
    "\n",
    "import matplotlib.pyplot as plt\n",
    "import pandas as pd"
   ]
  },
  {
   "cell_type": "markdown",
   "metadata": {},
   "source": [
    "## Excercise 1 - modelling height of !Kung people"
   ]
  },
  {
   "cell_type": "markdown",
   "metadata": {},
   "source": [
    "### Normal model - no predictors\n",
    "We will try to fit $\\mathrm{Normal}(\\mu,\\sigma)$ distribution to height data. Special case of linear model with $\\beta=0$."
   ]
  },
  {
   "cell_type": "code",
   "execution_count": 7,
   "metadata": {},
   "outputs": [
    {
     "data": {
      "text/html": [
       "<div>\n",
       "<style scoped>\n",
       "    .dataframe tbody tr th:only-of-type {\n",
       "        vertical-align: middle;\n",
       "    }\n",
       "\n",
       "    .dataframe tbody tr th {\n",
       "        vertical-align: top;\n",
       "    }\n",
       "\n",
       "    .dataframe thead th {\n",
       "        text-align: right;\n",
       "    }\n",
       "</style>\n",
       "<table border=\"1\" class=\"dataframe\">\n",
       "  <thead>\n",
       "    <tr style=\"text-align: right;\">\n",
       "      <th></th>\n",
       "      <th>height</th>\n",
       "      <th>weight</th>\n",
       "      <th>age</th>\n",
       "      <th>male</th>\n",
       "    </tr>\n",
       "  </thead>\n",
       "  <tbody>\n",
       "    <tr>\n",
       "      <th>0</th>\n",
       "      <td>151.765</td>\n",
       "      <td>47.825606</td>\n",
       "      <td>63.0</td>\n",
       "      <td>1</td>\n",
       "    </tr>\n",
       "    <tr>\n",
       "      <th>1</th>\n",
       "      <td>139.700</td>\n",
       "      <td>36.485807</td>\n",
       "      <td>63.0</td>\n",
       "      <td>0</td>\n",
       "    </tr>\n",
       "    <tr>\n",
       "      <th>2</th>\n",
       "      <td>136.525</td>\n",
       "      <td>31.864838</td>\n",
       "      <td>65.0</td>\n",
       "      <td>0</td>\n",
       "    </tr>\n",
       "    <tr>\n",
       "      <th>3</th>\n",
       "      <td>156.845</td>\n",
       "      <td>53.041914</td>\n",
       "      <td>41.0</td>\n",
       "      <td>1</td>\n",
       "    </tr>\n",
       "    <tr>\n",
       "      <th>4</th>\n",
       "      <td>145.415</td>\n",
       "      <td>41.276872</td>\n",
       "      <td>51.0</td>\n",
       "      <td>0</td>\n",
       "    </tr>\n",
       "  </tbody>\n",
       "</table>\n",
       "</div>"
      ],
      "text/plain": [
       "    height     weight   age  male\n",
       "0  151.765  47.825606  63.0     1\n",
       "1  139.700  36.485807  63.0     0\n",
       "2  136.525  31.864838  65.0     0\n",
       "3  156.845  53.041914  41.0     1\n",
       "4  145.415  41.276872  51.0     0"
      ]
     },
     "execution_count": 7,
     "metadata": {},
     "output_type": "execute_result"
    }
   ],
   "source": [
    "_BASE_URL = \"https://raw.githubusercontent.com/rmcelreath/rethinking/Experimental/data\"\n",
    "HOWELL_DATASET_PATH = f\"{_BASE_URL}/Howell1.csv\"\n",
    "d = pd.read_csv(HOWELL_DATASET_PATH, sep=';', header=0)\n",
    "d=d[d.age>=18] #just adults \n",
    "d.head()"
   ]
  },
  {
   "attachments": {},
   "cell_type": "markdown",
   "metadata": {},
   "source": [
    "## Task 1. Prior predictive checks"
   ]
  },
  {
   "cell_type": "code",
   "execution_count": 8,
   "metadata": {},
   "outputs": [
    {
     "name": "stderr",
     "output_type": "stream",
     "text": [
      "INFO:cmdstanpy:compiling stan file /home/Lab_4/height_1_ppc.stan to exe file /home/Lab_4/height_1_ppc\n",
      "INFO:cmdstanpy:compiled model executable: /home/Lab_4/height_1_ppc\n",
      "INFO:cmdstanpy:CmdStan start processing\n",
      "chain 1 |\u001b[34m██████████\u001b[0m| 00:00 Sampling completed                      "
     ]
    },
    {
     "name": "stdout",
     "output_type": "stream",
     "text": [
      "                                                                                "
     ]
    },
    {
     "name": "stderr",
     "output_type": "stream",
     "text": [
      "\n",
      "INFO:cmdstanpy:CmdStan done processing.\n"
     ]
    },
    {
     "name": "stdout",
     "output_type": "stream",
     "text": [
      "\n"
     ]
    }
   ],
   "source": [
    "model_ppc=CmdStanModel(stan_file='height_1_ppc.stan')\n",
    "\n",
    "R = 1000\n",
    "sim=model_ppc.sample(iter_sampling=R,\n",
    "                     iter_warmup=0,\n",
    "                     chains=1,\n",
    "                     fixed_param=True,\n",
    "                     seed=29042020,refresh=R)"
   ]
  },
  {
   "attachments": {},
   "cell_type": "markdown",
   "metadata": {},
   "source": [
    "\n",
    "\n",
    "1. Plot histograms of mu, sigma and simulated height.\n",
    "2. Plot a joint distribution of mu and sigma.\n",
    "3. Check if samples are consistent with priors.\n",
    "4. Correct prior parameters to make them reasonably spreaded out. \n",
    "5. Check if observed data is possible to obtain using priors."
   ]
  },
  {
   "cell_type": "code",
   "execution_count": 9,
   "metadata": {},
   "outputs": [
    {
     "data": {
      "image/png": "[encoded data removed]",
      "text/plain": [
       "<Figure size 432x288 with 1 Axes>"
      ]
     },
     "metadata": {
      "needs_background": "light"
     },
     "output_type": "display_data"
    },
    {
     "data": {
      "image/png": "[encoded data removed]",
      "text/plain": [
       "<Figure size 432x288 with 1 Axes>"
      ]
     },
     "metadata": {
      "needs_background": "light"
     },
     "output_type": "display_data"
    },
    {
     "data": {
      "image/png": "[encoded data removed]",
      "text/plain": [
       "<Figure size 432x288 with 1 Axes>"
      ]
     },
     "metadata": {
      "needs_background": "light"
     },
     "output_type": "display_data"
    }
   ],
   "source": [
    "df_1 = sim.draws_pd()\n",
    "\n",
    "# 1.\n",
    "for signal in ['mu', 'sigma', 'height']:\n",
    "    df_1[signal].plot.hist(bins=20, density=True)\n",
    "    plt.title(signal)\n",
    "    plt.show()"
   ]
  },
  {
   "cell_type": "code",
   "execution_count": 10,
   "metadata": {},
   "outputs": [
    {
     "data": {
      "image/png": "[encoded data removed]",
      "text/plain": [
       "<Figure size 432x288 with 3 Axes>"
      ]
     },
     "metadata": {
      "needs_background": "light"
     },
     "output_type": "display_data"
    }
   ],
   "source": [
    "# 2.\n",
    "az.plot_pair(sim, var_names=(\"mu\", \"sigma\"), kind=\"hexbin\", marginals=True)\n",
    "plt.show()"
   ]
  },
  {
   "cell_type": "code",
   "execution_count": 15,
   "metadata": {},
   "outputs": [
    {
     "name": "stdout",
     "output_type": "stream",
     "text": [
      "mu:  [mean=170.30681699999997  ;  std=8.106592452238962]\n",
      "sigma:  [mean=14.963684010000001  ;  std=2.0128568333231938]\n",
      "height:  [mean=171.373087  ;  std=17.429630630605754]\n"
     ]
    }
   ],
   "source": [
    "# 3.\n",
    "for signal in ['mu', 'sigma', 'height']:\n",
    "    print(f'{signal}:  [mean={df_1[signal].mean()}  ;  std={df_1[signal].std()}]')"
   ]
  },
  {
   "attachments": {},
   "cell_type": "markdown",
   "metadata": {},
   "source": [
    "Samples are consistent with priors."
   ]
  },
  {
   "attachments": {},
   "cell_type": "markdown",
   "metadata": {},
   "source": [
    "## Task 2. Model fit and evaluation"
   ]
  },
  {
   "cell_type": "code",
   "execution_count": 16,
   "metadata": {},
   "outputs": [
    {
     "name": "stderr",
     "output_type": "stream",
     "text": [
      "INFO:cmdstanpy:compiling stan file /home/Lab_4/height_1_fit.stan to exe file /home/Lab_4/height_1_fit\n",
      "INFO:cmdstanpy:compiled model executable: /home/Lab_4/height_1_fit\n"
     ]
    }
   ],
   "source": [
    "model_1_fit=CmdStanModel(stan_file='/home/Lab_4/height_1_fit.stan')"
   ]
  },
  {
   "cell_type": "code",
   "execution_count": 17,
   "metadata": {},
   "outputs": [
    {
     "name": "stderr",
     "output_type": "stream",
     "text": [
      "INFO:cmdstanpy:CmdStan start processing\n",
      "chain 1 |\u001b[33m          \u001b[0m| 00:00 Status\n",
      "\u001b[A\n",
      "\n",
      "chain 1 |\u001b[33m▍         \u001b[0m| 00:00 Status\n",
      "\u001b[A\n",
      "\n",
      "chain 1 |\u001b[34m██████████\u001b[0m| 00:00 Sampling completed\n",
      "chain 2 |\u001b[34m██████████\u001b[0m| 00:00 Sampling completed                     \n",
      "chain 3 |\u001b[34m██████████\u001b[0m| 00:00 Sampling completed                     \n",
      "chain 4 |\u001b[34m██████████\u001b[0m| 00:00 Sampling completed                     \n"
     ]
    },
    {
     "name": "stdout",
     "output_type": "stream",
     "text": [
      "                                                                                                                                                                                                                                                                                                                                "
     ]
    },
    {
     "name": "stderr",
     "output_type": "stream",
     "text": [
      "INFO:cmdstanpy:CmdStan done processing.\n"
     ]
    },
    {
     "name": "stdout",
     "output_type": "stream",
     "text": [
      "\n"
     ]
    }
   ],
   "source": [
    "fit=model_1_fit.sample(data=dict(N=len(d),\n",
    "                                   heights=d.height.values),\n",
    "                         seed=28052020)"
   ]
  },
  {
   "attachments": {},
   "cell_type": "markdown",
   "metadata": {},
   "source": [
    "\n",
    "1. Plot a joint distribution of fitted mu and sigma.\n",
    "2. Plot histograms of data and simulated heights and evaluate the quality of model.\n"
   ]
  },
  {
   "cell_type": "code",
   "execution_count": 20,
   "metadata": {},
   "outputs": [
    {
     "data": {
      "text/html": [
       "<div>\n",
       "<style scoped>\n",
       "    .dataframe tbody tr th:only-of-type {\n",
       "        vertical-align: middle;\n",
       "    }\n",
       "\n",
       "    .dataframe tbody tr th {\n",
       "        vertical-align: top;\n",
       "    }\n",
       "\n",
       "    .dataframe thead th {\n",
       "        text-align: right;\n",
       "    }\n",
       "</style>\n",
       "<table border=\"1\" class=\"dataframe\">\n",
       "  <thead>\n",
       "    <tr style=\"text-align: right;\">\n",
       "      <th></th>\n",
       "      <th>lp__</th>\n",
       "      <th>accept_stat__</th>\n",
       "      <th>stepsize__</th>\n",
       "      <th>treedepth__</th>\n",
       "      <th>n_leapfrog__</th>\n",
       "      <th>divergent__</th>\n",
       "      <th>energy__</th>\n",
       "      <th>mu</th>\n",
       "      <th>sigma</th>\n",
       "      <th>height_pred</th>\n",
       "    </tr>\n",
       "  </thead>\n",
       "  <tbody>\n",
       "    <tr>\n",
       "      <th>0</th>\n",
       "      <td>-904.268</td>\n",
       "      <td>1.000000</td>\n",
       "      <td>0.830305</td>\n",
       "      <td>2.0</td>\n",
       "      <td>7.0</td>\n",
       "      <td>0.0</td>\n",
       "      <td>904.330</td>\n",
       "      <td>154.036</td>\n",
       "      <td>8.38691</td>\n",
       "      <td>157.068</td>\n",
       "    </tr>\n",
       "    <tr>\n",
       "      <th>1</th>\n",
       "      <td>-904.282</td>\n",
       "      <td>0.992184</td>\n",
       "      <td>0.830305</td>\n",
       "      <td>2.0</td>\n",
       "      <td>7.0</td>\n",
       "      <td>0.0</td>\n",
       "      <td>905.024</td>\n",
       "      <td>155.056</td>\n",
       "      <td>7.39906</td>\n",
       "      <td>150.216</td>\n",
       "    </tr>\n",
       "    <tr>\n",
       "      <th>2</th>\n",
       "      <td>-904.663</td>\n",
       "      <td>0.962338</td>\n",
       "      <td>0.830305</td>\n",
       "      <td>2.0</td>\n",
       "      <td>7.0</td>\n",
       "      <td>0.0</td>\n",
       "      <td>906.169</td>\n",
       "      <td>153.933</td>\n",
       "      <td>8.39928</td>\n",
       "      <td>164.194</td>\n",
       "    </tr>\n",
       "    <tr>\n",
       "      <th>3</th>\n",
       "      <td>-905.051</td>\n",
       "      <td>0.979055</td>\n",
       "      <td>0.830305</td>\n",
       "      <td>2.0</td>\n",
       "      <td>3.0</td>\n",
       "      <td>0.0</td>\n",
       "      <td>905.378</td>\n",
       "      <td>153.973</td>\n",
       "      <td>8.50854</td>\n",
       "      <td>143.030</td>\n",
       "    </tr>\n",
       "    <tr>\n",
       "      <th>4</th>\n",
       "      <td>-902.286</td>\n",
       "      <td>1.000000</td>\n",
       "      <td>0.830305</td>\n",
       "      <td>2.0</td>\n",
       "      <td>3.0</td>\n",
       "      <td>0.0</td>\n",
       "      <td>904.794</td>\n",
       "      <td>154.482</td>\n",
       "      <td>7.98134</td>\n",
       "      <td>143.787</td>\n",
       "    </tr>\n",
       "    <tr>\n",
       "      <th>...</th>\n",
       "      <td>...</td>\n",
       "      <td>...</td>\n",
       "      <td>...</td>\n",
       "      <td>...</td>\n",
       "      <td>...</td>\n",
       "      <td>...</td>\n",
       "      <td>...</td>\n",
       "      <td>...</td>\n",
       "      <td>...</td>\n",
       "      <td>...</td>\n",
       "    </tr>\n",
       "    <tr>\n",
       "      <th>3995</th>\n",
       "      <td>-903.276</td>\n",
       "      <td>0.812693</td>\n",
       "      <td>0.894995</td>\n",
       "      <td>1.0</td>\n",
       "      <td>3.0</td>\n",
       "      <td>0.0</td>\n",
       "      <td>903.629</td>\n",
       "      <td>154.029</td>\n",
       "      <td>7.83681</td>\n",
       "      <td>144.419</td>\n",
       "    </tr>\n",
       "    <tr>\n",
       "      <th>3996</th>\n",
       "      <td>-902.338</td>\n",
       "      <td>0.977518</td>\n",
       "      <td>0.894995</td>\n",
       "      <td>3.0</td>\n",
       "      <td>7.0</td>\n",
       "      <td>0.0</td>\n",
       "      <td>903.465</td>\n",
       "      <td>154.570</td>\n",
       "      <td>7.74282</td>\n",
       "      <td>150.778</td>\n",
       "    </tr>\n",
       "    <tr>\n",
       "      <th>3997</th>\n",
       "      <td>-902.231</td>\n",
       "      <td>0.972702</td>\n",
       "      <td>0.894995</td>\n",
       "      <td>1.0</td>\n",
       "      <td>3.0</td>\n",
       "      <td>0.0</td>\n",
       "      <td>902.546</td>\n",
       "      <td>154.714</td>\n",
       "      <td>7.98120</td>\n",
       "      <td>149.211</td>\n",
       "    </tr>\n",
       "    <tr>\n",
       "      <th>3998</th>\n",
       "      <td>-902.221</td>\n",
       "      <td>0.983381</td>\n",
       "      <td>0.894995</td>\n",
       "      <td>2.0</td>\n",
       "      <td>7.0</td>\n",
       "      <td>0.0</td>\n",
       "      <td>902.357</td>\n",
       "      <td>154.562</td>\n",
       "      <td>7.84051</td>\n",
       "      <td>160.299</td>\n",
       "    </tr>\n",
       "    <tr>\n",
       "      <th>3999</th>\n",
       "      <td>-902.258</td>\n",
       "      <td>0.992245</td>\n",
       "      <td>0.894995</td>\n",
       "      <td>2.0</td>\n",
       "      <td>3.0</td>\n",
       "      <td>0.0</td>\n",
       "      <td>902.303</td>\n",
       "      <td>154.766</td>\n",
       "      <td>7.83006</td>\n",
       "      <td>153.582</td>\n",
       "    </tr>\n",
       "  </tbody>\n",
       "</table>\n",
       "<p>4000 rows × 10 columns</p>\n",
       "</div>"
      ],
      "text/plain": [
       "         lp__  accept_stat__  stepsize__  treedepth__  n_leapfrog__  \\\n",
       "0    -904.268       1.000000    0.830305          2.0           7.0   \n",
       "1    -904.282       0.992184    0.830305          2.0           7.0   \n",
       "2    -904.663       0.962338    0.830305          2.0           7.0   \n",
       "3    -905.051       0.979055    0.830305          2.0           3.0   \n",
       "4    -902.286       1.000000    0.830305          2.0           3.0   \n",
       "...       ...            ...         ...          ...           ...   \n",
       "3995 -903.276       0.812693    0.894995          1.0           3.0   \n",
       "3996 -902.338       0.977518    0.894995          3.0           7.0   \n",
       "3997 -902.231       0.972702    0.894995          1.0           3.0   \n",
       "3998 -902.221       0.983381    0.894995          2.0           7.0   \n",
       "3999 -902.258       0.992245    0.894995          2.0           3.0   \n",
       "\n",
       "      divergent__  energy__       mu    sigma  height_pred  \n",
       "0             0.0   904.330  154.036  8.38691      157.068  \n",
       "1             0.0   905.024  155.056  7.39906      150.216  \n",
       "2             0.0   906.169  153.933  8.39928      164.194  \n",
       "3             0.0   905.378  153.973  8.50854      143.030  \n",
       "4             0.0   904.794  154.482  7.98134      143.787  \n",
       "...           ...       ...      ...      ...          ...  \n",
       "3995          0.0   903.629  154.029  7.83681      144.419  \n",
       "3996          0.0   903.465  154.570  7.74282      150.778  \n",
       "3997          0.0   902.546  154.714  7.98120      149.211  \n",
       "3998          0.0   902.357  154.562  7.84051      160.299  \n",
       "3999          0.0   902.303  154.766  7.83006      153.582  \n",
       "\n",
       "[4000 rows x 10 columns]"
      ]
     },
     "execution_count": 20,
     "metadata": {},
     "output_type": "execute_result"
    }
   ],
   "source": [
    "df_2 = fit.draws_pd()\n",
    "df_2"
   ]
  },
  {
   "cell_type": "code",
   "execution_count": 21,
   "metadata": {},
   "outputs": [
    {
     "data": {
      "image/png": "[encoded data removed]",
      "text/plain": [
       "<Figure size 432x288 with 3 Axes>"
      ]
     },
     "metadata": {
      "needs_background": "light"
     },
     "output_type": "display_data"
    }
   ],
   "source": [
    "# 1.\n",
    "az.plot_pair(fit, var_names=(\"mu\", \"sigma\"), kind=\"hexbin\", marginals=True)\n",
    "plt.show()"
   ]
  },
  {
   "cell_type": "code",
   "execution_count": 30,
   "metadata": {},
   "outputs": [
    {
     "data": {
      "image/png": "[encoded data removed]",
      "text/plain": [
       "<Figure size 432x288 with 1 Axes>"
      ]
     },
     "metadata": {
      "needs_background": "light"
     },
     "output_type": "display_data"
    },
    {
     "data": {
      "image/png": "[encoded data removed]",
      "text/plain": [
       "<Figure size 432x288 with 1 Axes>"
      ]
     },
     "metadata": {
      "needs_background": "light"
     },
     "output_type": "display_data"
    },
    {
     "data": {
      "image/png": "[encoded data removed]",
      "text/plain": [
       "<Figure size 432x288 with 1 Axes>"
      ]
     },
     "metadata": {
      "needs_background": "light"
     },
     "output_type": "display_data"
    },
    {
     "data": {
      "text/plain": [
       "[]"
      ]
     },
     "execution_count": 30,
     "metadata": {},
     "output_type": "execute_result"
    },
    {
     "data": {
      "image/png": "[encoded data removed]",
      "text/plain": [
       "<Figure size 864x360 with 1 Axes>"
      ]
     },
     "metadata": {
      "needs_background": "light"
     },
     "output_type": "display_data"
    }
   ],
   "source": [
    "# 2.\n",
    "for signal in ['mu', 'sigma', 'height_pred']:\n",
    "    df_2[signal].plot.hist(bins=20, density=True)\n",
    "    plt.title(signal)\n",
    "    plt.show()\n",
    "\n",
    "\n",
    "fig, ax = plt.subplots(figsize=(12,5))\n",
    "fig.suptitle(\"Model quality evaluation\")\n",
    "sns.histplot(data=d, x=\"height\", bins=20, stat=\"density\", ax=ax, label='data')\n",
    "sns.histplot(data=df_2, x=\"height_pred\", bins=20, stat=\"density\", ax=ax, label='simulated')\n",
    "plt.legend()\n",
    "plt.tight_layout()\n",
    "plt.plot()"
   ]
  },
  {
   "attachments": {},
   "cell_type": "markdown",
   "metadata": {},
   "source": [
    "Simulation is OK."
   ]
  },
  {
   "attachments": {},
   "cell_type": "markdown",
   "metadata": {},
   "source": [
    "## Task 3. Adding predictor to the model - weight\n",
    "\n",
    "Create column ```c_weight``` in the dataframe containing weights substrated by their mean.\n"
   ]
  },
  {
   "cell_type": "code",
   "execution_count": 31,
   "metadata": {},
   "outputs": [],
   "source": [
    "c_weight = d.weight-d.weight.mean()\n",
    "d['c_weight'] = c_weight\n",
    "data_sim={'N':50, 'weight':np.linspace(d.c_weight.min(),d.c_weight.max())}\n"
   ]
  },
  {
   "attachments": {},
   "cell_type": "markdown",
   "metadata": {},
   "source": [
    "## Task 4. Prior predictive checks\n",
    " "
   ]
  },
  {
   "cell_type": "code",
   "execution_count": 32,
   "metadata": {},
   "outputs": [
    {
     "name": "stderr",
     "output_type": "stream",
     "text": [
      "INFO:cmdstanpy:compiling stan file /home/Lab_4/height_2a_ppc.stan to exe file /home/Lab_4/height_2a_ppc\n",
      "INFO:cmdstanpy:compiled model executable: /home/Lab_4/height_2a_ppc\n",
      "INFO:cmdstanpy:CmdStan start processing\n",
      "chain 1 |\u001b[34m██████████\u001b[0m| 00:00 Sampling completed                      "
     ]
    },
    {
     "name": "stdout",
     "output_type": "stream",
     "text": [
      "                                                                                "
     ]
    },
    {
     "name": "stderr",
     "output_type": "stream",
     "text": [
      "\n",
      "INFO:cmdstanpy:CmdStan done processing.\n"
     ]
    },
    {
     "name": "stdout",
     "output_type": "stream",
     "text": [
      "\n"
     ]
    }
   ],
   "source": [
    "model_ppc=CmdStanModel(stan_file='height_2a_ppc.stan')\n",
    "R = 1000\n",
    "sim=model_ppc.sample(data=data_sim, \n",
    "                     iter_sampling=R, \n",
    "                     iter_warmup=0, \n",
    "                     chains=1, \n",
    "                     refresh=R,\n",
    "                     fixed_param=True,\n",
    "                     seed=29042020)"
   ]
  },
  {
   "attachments": {},
   "cell_type": "markdown",
   "metadata": {},
   "source": [
    "Plot lines for each sampled slope beta and intercept alpha, verify if possible predicted heights are consistent with minimum (0) and maximum (check Wikipedia) heights observed in nature."
   ]
  },
  {
   "cell_type": "code",
   "execution_count": 33,
   "metadata": {},
   "outputs": [
    {
     "data": {
      "text/html": [
       "<div>\n",
       "<style scoped>\n",
       "    .dataframe tbody tr th:only-of-type {\n",
       "        vertical-align: middle;\n",
       "    }\n",
       "\n",
       "    .dataframe tbody tr th {\n",
       "        vertical-align: top;\n",
       "    }\n",
       "\n",
       "    .dataframe thead th {\n",
       "        text-align: right;\n",
       "    }\n",
       "</style>\n",
       "<table border=\"1\" class=\"dataframe\">\n",
       "  <thead>\n",
       "    <tr style=\"text-align: right;\">\n",
       "      <th></th>\n",
       "      <th>lp__</th>\n",
       "      <th>accept_stat__</th>\n",
       "      <th>alpha</th>\n",
       "      <th>beta</th>\n",
       "      <th>sigma</th>\n",
       "      <th>height[1]</th>\n",
       "      <th>height[2]</th>\n",
       "      <th>height[3]</th>\n",
       "      <th>height[4]</th>\n",
       "      <th>height[5]</th>\n",
       "      <th>...</th>\n",
       "      <th>height[41]</th>\n",
       "      <th>height[42]</th>\n",
       "      <th>height[43]</th>\n",
       "      <th>height[44]</th>\n",
       "      <th>height[45]</th>\n",
       "      <th>height[46]</th>\n",
       "      <th>height[47]</th>\n",
       "      <th>height[48]</th>\n",
       "      <th>height[49]</th>\n",
       "      <th>height[50]</th>\n",
       "    </tr>\n",
       "  </thead>\n",
       "  <tbody>\n",
       "    <tr>\n",
       "      <th>0</th>\n",
       "      <td>0.0</td>\n",
       "      <td>0.0</td>\n",
       "      <td>191.665</td>\n",
       "      <td>0.777181</td>\n",
       "      <td>13.7277</td>\n",
       "      <td>182.599</td>\n",
       "      <td>162.280</td>\n",
       "      <td>185.239</td>\n",
       "      <td>198.822</td>\n",
       "      <td>213.971</td>\n",
       "      <td>...</td>\n",
       "      <td>217.062</td>\n",
       "      <td>227.453</td>\n",
       "      <td>223.245</td>\n",
       "      <td>206.186</td>\n",
       "      <td>184.146</td>\n",
       "      <td>196.238</td>\n",
       "      <td>200.401</td>\n",
       "      <td>215.128</td>\n",
       "      <td>209.066</td>\n",
       "      <td>214.492</td>\n",
       "    </tr>\n",
       "    <tr>\n",
       "      <th>1</th>\n",
       "      <td>0.0</td>\n",
       "      <td>0.0</td>\n",
       "      <td>160.409</td>\n",
       "      <td>-0.006780</td>\n",
       "      <td>14.9963</td>\n",
       "      <td>178.721</td>\n",
       "      <td>171.889</td>\n",
       "      <td>171.587</td>\n",
       "      <td>178.157</td>\n",
       "      <td>178.679</td>\n",
       "      <td>...</td>\n",
       "      <td>200.412</td>\n",
       "      <td>159.956</td>\n",
       "      <td>146.819</td>\n",
       "      <td>157.962</td>\n",
       "      <td>146.022</td>\n",
       "      <td>168.035</td>\n",
       "      <td>144.686</td>\n",
       "      <td>158.799</td>\n",
       "      <td>179.852</td>\n",
       "      <td>159.148</td>\n",
       "    </tr>\n",
       "    <tr>\n",
       "      <th>2</th>\n",
       "      <td>0.0</td>\n",
       "      <td>0.0</td>\n",
       "      <td>166.584</td>\n",
       "      <td>-1.138640</td>\n",
       "      <td>13.7781</td>\n",
       "      <td>201.950</td>\n",
       "      <td>179.098</td>\n",
       "      <td>178.741</td>\n",
       "      <td>188.546</td>\n",
       "      <td>184.894</td>\n",
       "      <td>...</td>\n",
       "      <td>176.857</td>\n",
       "      <td>133.758</td>\n",
       "      <td>172.130</td>\n",
       "      <td>155.169</td>\n",
       "      <td>176.776</td>\n",
       "      <td>149.190</td>\n",
       "      <td>162.021</td>\n",
       "      <td>153.756</td>\n",
       "      <td>146.279</td>\n",
       "      <td>149.028</td>\n",
       "    </tr>\n",
       "    <tr>\n",
       "      <th>3</th>\n",
       "      <td>0.0</td>\n",
       "      <td>0.0</td>\n",
       "      <td>162.143</td>\n",
       "      <td>-0.254452</td>\n",
       "      <td>14.4921</td>\n",
       "      <td>184.945</td>\n",
       "      <td>155.957</td>\n",
       "      <td>162.196</td>\n",
       "      <td>151.371</td>\n",
       "      <td>161.824</td>\n",
       "      <td>...</td>\n",
       "      <td>167.149</td>\n",
       "      <td>161.133</td>\n",
       "      <td>164.401</td>\n",
       "      <td>179.353</td>\n",
       "      <td>152.018</td>\n",
       "      <td>151.279</td>\n",
       "      <td>170.996</td>\n",
       "      <td>150.954</td>\n",
       "      <td>163.607</td>\n",
       "      <td>152.397</td>\n",
       "    </tr>\n",
       "    <tr>\n",
       "      <th>4</th>\n",
       "      <td>0.0</td>\n",
       "      <td>0.0</td>\n",
       "      <td>162.052</td>\n",
       "      <td>1.671020</td>\n",
       "      <td>14.2973</td>\n",
       "      <td>101.473</td>\n",
       "      <td>131.426</td>\n",
       "      <td>129.762</td>\n",
       "      <td>130.995</td>\n",
       "      <td>161.655</td>\n",
       "      <td>...</td>\n",
       "      <td>204.814</td>\n",
       "      <td>202.167</td>\n",
       "      <td>174.066</td>\n",
       "      <td>188.155</td>\n",
       "      <td>184.725</td>\n",
       "      <td>181.334</td>\n",
       "      <td>181.274</td>\n",
       "      <td>200.793</td>\n",
       "      <td>199.272</td>\n",
       "      <td>180.499</td>\n",
       "    </tr>\n",
       "    <tr>\n",
       "      <th>...</th>\n",
       "      <td>...</td>\n",
       "      <td>...</td>\n",
       "      <td>...</td>\n",
       "      <td>...</td>\n",
       "      <td>...</td>\n",
       "      <td>...</td>\n",
       "      <td>...</td>\n",
       "      <td>...</td>\n",
       "      <td>...</td>\n",
       "      <td>...</td>\n",
       "      <td>...</td>\n",
       "      <td>...</td>\n",
       "      <td>...</td>\n",
       "      <td>...</td>\n",
       "      <td>...</td>\n",
       "      <td>...</td>\n",
       "      <td>...</td>\n",
       "      <td>...</td>\n",
       "      <td>...</td>\n",
       "      <td>...</td>\n",
       "      <td>...</td>\n",
       "    </tr>\n",
       "    <tr>\n",
       "      <th>995</th>\n",
       "      <td>0.0</td>\n",
       "      <td>0.0</td>\n",
       "      <td>163.501</td>\n",
       "      <td>1.261300</td>\n",
       "      <td>14.3942</td>\n",
       "      <td>160.144</td>\n",
       "      <td>123.793</td>\n",
       "      <td>149.038</td>\n",
       "      <td>148.851</td>\n",
       "      <td>152.509</td>\n",
       "      <td>...</td>\n",
       "      <td>187.398</td>\n",
       "      <td>144.736</td>\n",
       "      <td>192.999</td>\n",
       "      <td>176.683</td>\n",
       "      <td>220.439</td>\n",
       "      <td>179.108</td>\n",
       "      <td>183.454</td>\n",
       "      <td>215.341</td>\n",
       "      <td>179.310</td>\n",
       "      <td>171.692</td>\n",
       "    </tr>\n",
       "    <tr>\n",
       "      <th>996</th>\n",
       "      <td>0.0</td>\n",
       "      <td>0.0</td>\n",
       "      <td>177.345</td>\n",
       "      <td>1.223380</td>\n",
       "      <td>15.6785</td>\n",
       "      <td>170.826</td>\n",
       "      <td>170.885</td>\n",
       "      <td>155.366</td>\n",
       "      <td>165.607</td>\n",
       "      <td>142.222</td>\n",
       "      <td>...</td>\n",
       "      <td>184.830</td>\n",
       "      <td>201.786</td>\n",
       "      <td>201.974</td>\n",
       "      <td>167.755</td>\n",
       "      <td>209.471</td>\n",
       "      <td>189.494</td>\n",
       "      <td>164.920</td>\n",
       "      <td>218.821</td>\n",
       "      <td>193.424</td>\n",
       "      <td>196.394</td>\n",
       "    </tr>\n",
       "    <tr>\n",
       "      <th>997</th>\n",
       "      <td>0.0</td>\n",
       "      <td>0.0</td>\n",
       "      <td>167.917</td>\n",
       "      <td>-0.272051</td>\n",
       "      <td>12.2000</td>\n",
       "      <td>165.760</td>\n",
       "      <td>186.796</td>\n",
       "      <td>181.066</td>\n",
       "      <td>172.447</td>\n",
       "      <td>174.697</td>\n",
       "      <td>...</td>\n",
       "      <td>156.613</td>\n",
       "      <td>159.188</td>\n",
       "      <td>171.557</td>\n",
       "      <td>142.114</td>\n",
       "      <td>165.316</td>\n",
       "      <td>173.815</td>\n",
       "      <td>149.693</td>\n",
       "      <td>166.933</td>\n",
       "      <td>153.536</td>\n",
       "      <td>157.094</td>\n",
       "    </tr>\n",
       "    <tr>\n",
       "      <th>998</th>\n",
       "      <td>0.0</td>\n",
       "      <td>0.0</td>\n",
       "      <td>149.246</td>\n",
       "      <td>0.987160</td>\n",
       "      <td>13.7746</td>\n",
       "      <td>147.814</td>\n",
       "      <td>139.461</td>\n",
       "      <td>134.262</td>\n",
       "      <td>145.072</td>\n",
       "      <td>155.579</td>\n",
       "      <td>...</td>\n",
       "      <td>157.222</td>\n",
       "      <td>159.068</td>\n",
       "      <td>136.505</td>\n",
       "      <td>151.409</td>\n",
       "      <td>179.107</td>\n",
       "      <td>161.456</td>\n",
       "      <td>180.983</td>\n",
       "      <td>150.842</td>\n",
       "      <td>147.390</td>\n",
       "      <td>169.983</td>\n",
       "    </tr>\n",
       "    <tr>\n",
       "      <th>999</th>\n",
       "      <td>0.0</td>\n",
       "      <td>0.0</td>\n",
       "      <td>180.244</td>\n",
       "      <td>-0.514661</td>\n",
       "      <td>14.1887</td>\n",
       "      <td>182.009</td>\n",
       "      <td>176.042</td>\n",
       "      <td>197.713</td>\n",
       "      <td>199.588</td>\n",
       "      <td>169.008</td>\n",
       "      <td>...</td>\n",
       "      <td>163.844</td>\n",
       "      <td>182.006</td>\n",
       "      <td>178.298</td>\n",
       "      <td>174.421</td>\n",
       "      <td>191.090</td>\n",
       "      <td>173.433</td>\n",
       "      <td>180.671</td>\n",
       "      <td>186.812</td>\n",
       "      <td>171.145</td>\n",
       "      <td>206.380</td>\n",
       "    </tr>\n",
       "  </tbody>\n",
       "</table>\n",
       "<p>1000 rows × 55 columns</p>\n",
       "</div>"
      ],
      "text/plain": [
       "     lp__  accept_stat__    alpha      beta    sigma  height[1]  height[2]  \\\n",
       "0     0.0            0.0  191.665  0.777181  13.7277    182.599    162.280   \n",
       "1     0.0            0.0  160.409 -0.006780  14.9963    178.721    171.889   \n",
       "2     0.0            0.0  166.584 -1.138640  13.7781    201.950    179.098   \n",
       "3     0.0            0.0  162.143 -0.254452  14.4921    184.945    155.957   \n",
       "4     0.0            0.0  162.052  1.671020  14.2973    101.473    131.426   \n",
       "..    ...            ...      ...       ...      ...        ...        ...   \n",
       "995   0.0            0.0  163.501  1.261300  14.3942    160.144    123.793   \n",
       "996   0.0            0.0  177.345  1.223380  15.6785    170.826    170.885   \n",
       "997   0.0            0.0  167.917 -0.272051  12.2000    165.760    186.796   \n",
       "998   0.0            0.0  149.246  0.987160  13.7746    147.814    139.461   \n",
       "999   0.0            0.0  180.244 -0.514661  14.1887    182.009    176.042   \n",
       "\n",
       "     height[3]  height[4]  height[5]  ...  height[41]  height[42]  height[43]  \\\n",
       "0      185.239    198.822    213.971  ...     217.062     227.453     223.245   \n",
       "1      171.587    178.157    178.679  ...     200.412     159.956     146.819   \n",
       "2      178.741    188.546    184.894  ...     176.857     133.758     172.130   \n",
       "3      162.196    151.371    161.824  ...     167.149     161.133     164.401   \n",
       "4      129.762    130.995    161.655  ...     204.814     202.167     174.066   \n",
       "..         ...        ...        ...  ...         ...         ...         ...   \n",
       "995    149.038    148.851    152.509  ...     187.398     144.736     192.999   \n",
       "996    155.366    165.607    142.222  ...     184.830     201.786     201.974   \n",
       "997    181.066    172.447    174.697  ...     156.613     159.188     171.557   \n",
       "998    134.262    145.072    155.579  ...     157.222     159.068     136.505   \n",
       "999    197.713    199.588    169.008  ...     163.844     182.006     178.298   \n",
       "\n",
       "     height[44]  height[45]  height[46]  height[47]  height[48]  height[49]  \\\n",
       "0       206.186     184.146     196.238     200.401     215.128     209.066   \n",
       "1       157.962     146.022     168.035     144.686     158.799     179.852   \n",
       "2       155.169     176.776     149.190     162.021     153.756     146.279   \n",
       "3       179.353     152.018     151.279     170.996     150.954     163.607   \n",
       "4       188.155     184.725     181.334     181.274     200.793     199.272   \n",
       "..          ...         ...         ...         ...         ...         ...   \n",
       "995     176.683     220.439     179.108     183.454     215.341     179.310   \n",
       "996     167.755     209.471     189.494     164.920     218.821     193.424   \n",
       "997     142.114     165.316     173.815     149.693     166.933     153.536   \n",
       "998     151.409     179.107     161.456     180.983     150.842     147.390   \n",
       "999     174.421     191.090     173.433     180.671     186.812     171.145   \n",
       "\n",
       "     height[50]  \n",
       "0       214.492  \n",
       "1       159.148  \n",
       "2       149.028  \n",
       "3       152.397  \n",
       "4       180.499  \n",
       "..          ...  \n",
       "995     171.692  \n",
       "996     196.394  \n",
       "997     157.094  \n",
       "998     169.983  \n",
       "999     206.380  \n",
       "\n",
       "[1000 rows x 55 columns]"
      ]
     },
     "execution_count": 33,
     "metadata": {},
     "output_type": "execute_result"
    }
   ],
   "source": [
    "df_4 = sim.draws_pd()\n",
    "df_4"
   ]
  },
  {
   "cell_type": "code",
   "execution_count": 34,
   "metadata": {},
   "outputs": [
    {
     "data": {
      "image/png": "[encoded data removed]",
      "text/plain": [
       "<Figure size 432x288 with 1 Axes>"
      ]
     },
     "metadata": {
      "needs_background": "light"
     },
     "output_type": "display_data"
    },
    {
     "data": {
      "image/png": "[encoded data removed]",
      "text/plain": [
       "<Figure size 432x288 with 1 Axes>"
      ]
     },
     "metadata": {
      "needs_background": "light"
     },
     "output_type": "display_data"
    }
   ],
   "source": [
    "for signal in ['beta', 'alpha']:\n",
    "    plt.plot(df_4[signal])\n",
    "    plt.title(signal)\n",
    "    plt.show()"
   ]
  },
  {
   "cell_type": "code",
   "execution_count": 40,
   "metadata": {},
   "outputs": [
    {
     "data": {
      "image/png": "[encoded data removed]",
      "text/plain": [
       "<Figure size 432x288 with 1 Axes>"
      ]
     },
     "metadata": {
      "needs_background": "light"
     },
     "output_type": "display_data"
    }
   ],
   "source": [
    "heights_max = []\n",
    "heights_min = []\n",
    "for i in range(1, 51):\n",
    "    height_num = \"height[\" + str(i) + \"]\"\n",
    "    heights_max.append(df_4[height_num].max())\n",
    "    heights_min.append(df_4[height_num].min())\n",
    "\n",
    "plt.plot(heights_max, label='Heights MAX')\n",
    "plt.plot(heights_min, label='Heights MIN')\n",
    "plt.plot([251] * len(heights_max), label='Tallest person (Wikipedia)', color='red')\n",
    "plt.plot([54] * len(heights_max), label='Shortest person (Wikipedia)', color='green')\n",
    "plt.legend()\n",
    "plt.show()"
   ]
  },
  {
   "attachments": {},
   "cell_type": "markdown",
   "metadata": {},
   "source": [
    "Almost every predicted height is possible."
   ]
  },
  {
   "attachments": {},
   "cell_type": "markdown",
   "metadata": {},
   "source": [
    "## Task 5. Modifying prior\n",
    "\n",
    "If prior for beta admits negative values, then it makes no sense. Lets change prior to lognormal distribution.\n"
   ]
  },
  {
   "cell_type": "code",
   "execution_count": 41,
   "metadata": {},
   "outputs": [
    {
     "name": "stderr",
     "output_type": "stream",
     "text": [
      "INFO:cmdstanpy:compiling stan file /home/Lab_4/height_2b_ppc.stan to exe file /home/Lab_4/height_2b_ppc\n",
      "INFO:cmdstanpy:compiled model executable: /home/Lab_4/height_2b_ppc\n"
     ]
    }
   ],
   "source": [
    "model_ppc=CmdStanModel(stan_file='height_2b_ppc.stan')"
   ]
  },
  {
   "cell_type": "code",
   "execution_count": 42,
   "metadata": {},
   "outputs": [
    {
     "name": "stderr",
     "output_type": "stream",
     "text": [
      "INFO:cmdstanpy:CmdStan start processing\n",
      "chain 1 |\u001b[34m██████████\u001b[0m| 00:00 Sampling completed"
     ]
    },
    {
     "name": "stdout",
     "output_type": "stream",
     "text": [
      "                                                                                "
     ]
    },
    {
     "name": "stderr",
     "output_type": "stream",
     "text": [
      "\n",
      "INFO:cmdstanpy:CmdStan done processing.\n"
     ]
    },
    {
     "name": "stdout",
     "output_type": "stream",
     "text": [
      "\n"
     ]
    }
   ],
   "source": [
    "sim=model_ppc.sample(data=data_sim, \n",
    "                     iter_sampling=R, \n",
    "                     iter_warmup=0, \n",
    "                     chains=1, \n",
    "                     refresh=R,\n",
    "                     fixed_param=True,\n",
    "                     seed=29042020)"
   ]
  },
  {
   "attachments": {},
   "cell_type": "markdown",
   "metadata": {},
   "source": [
    "1. Plot lines for each sampled slope beta and intercept alpha, verify if possible predicted heights are consistent with minimum (0) and maximum (check Wikipedia) heights observed in nature.\n",
    "2. For each simulated weight plot maximum, minimum, and 5, 25, 50, 75, 95 quantiles of simulated weight (all in the same plot). Compare with observed data. Is observed data possible within the prior model?"
   ]
  },
  {
   "cell_type": "code",
   "execution_count": 43,
   "metadata": {},
   "outputs": [
    {
     "data": {
      "text/html": [
       "<div>\n",
       "<style scoped>\n",
       "    .dataframe tbody tr th:only-of-type {\n",
       "        vertical-align: middle;\n",
       "    }\n",
       "\n",
       "    .dataframe tbody tr th {\n",
       "        vertical-align: top;\n",
       "    }\n",
       "\n",
       "    .dataframe thead th {\n",
       "        text-align: right;\n",
       "    }\n",
       "</style>\n",
       "<table border=\"1\" class=\"dataframe\">\n",
       "  <thead>\n",
       "    <tr style=\"text-align: right;\">\n",
       "      <th></th>\n",
       "      <th>lp__</th>\n",
       "      <th>accept_stat__</th>\n",
       "      <th>alpha</th>\n",
       "      <th>beta</th>\n",
       "      <th>sigma</th>\n",
       "      <th>height[1]</th>\n",
       "      <th>height[2]</th>\n",
       "      <th>height[3]</th>\n",
       "      <th>height[4]</th>\n",
       "      <th>height[5]</th>\n",
       "      <th>...</th>\n",
       "      <th>height[41]</th>\n",
       "      <th>height[42]</th>\n",
       "      <th>height[43]</th>\n",
       "      <th>height[44]</th>\n",
       "      <th>height[45]</th>\n",
       "      <th>height[46]</th>\n",
       "      <th>height[47]</th>\n",
       "      <th>height[48]</th>\n",
       "      <th>height[49]</th>\n",
       "      <th>height[50]</th>\n",
       "    </tr>\n",
       "  </thead>\n",
       "  <tbody>\n",
       "    <tr>\n",
       "      <th>0</th>\n",
       "      <td>0.0</td>\n",
       "      <td>0.0</td>\n",
       "      <td>191.665</td>\n",
       "      <td>1.214450</td>\n",
       "      <td>12.45550</td>\n",
       "      <td>176.350</td>\n",
       "      <td>158.246</td>\n",
       "      <td>179.409</td>\n",
       "      <td>192.065</td>\n",
       "      <td>206.141</td>\n",
       "      <td>...</td>\n",
       "      <td>220.890</td>\n",
       "      <td>230.650</td>\n",
       "      <td>227.164</td>\n",
       "      <td>212.018</td>\n",
       "      <td>192.352</td>\n",
       "      <td>203.656</td>\n",
       "      <td>207.765</td>\n",
       "      <td>221.459</td>\n",
       "      <td>216.290</td>\n",
       "      <td>221.545</td>\n",
       "    </tr>\n",
       "    <tr>\n",
       "      <th>1</th>\n",
       "      <td>0.0</td>\n",
       "      <td>0.0</td>\n",
       "      <td>160.409</td>\n",
       "      <td>0.998307</td>\n",
       "      <td>14.99260</td>\n",
       "      <td>164.727</td>\n",
       "      <td>158.551</td>\n",
       "      <td>158.904</td>\n",
       "      <td>166.127</td>\n",
       "      <td>167.304</td>\n",
       "      <td>...</td>\n",
       "      <td>212.603</td>\n",
       "      <td>172.811</td>\n",
       "      <td>160.332</td>\n",
       "      <td>172.127</td>\n",
       "      <td>160.846</td>\n",
       "      <td>183.508</td>\n",
       "      <td>160.819</td>\n",
       "      <td>175.584</td>\n",
       "      <td>197.287</td>\n",
       "      <td>177.242</td>\n",
       "    </tr>\n",
       "    <tr>\n",
       "      <th>2</th>\n",
       "      <td>0.0</td>\n",
       "      <td>0.0</td>\n",
       "      <td>166.584</td>\n",
       "      <td>0.752270</td>\n",
       "      <td>12.55630</td>\n",
       "      <td>173.899</td>\n",
       "      <td>154.240</td>\n",
       "      <td>155.080</td>\n",
       "      <td>165.181</td>\n",
       "      <td>163.020</td>\n",
       "      <td>...</td>\n",
       "      <td>197.674</td>\n",
       "      <td>159.563</td>\n",
       "      <td>195.698</td>\n",
       "      <td>181.407</td>\n",
       "      <td>202.264</td>\n",
       "      <td>178.291</td>\n",
       "      <td>191.150</td>\n",
       "      <td>184.784</td>\n",
       "      <td>179.136</td>\n",
       "      <td>182.807</td>\n",
       "    </tr>\n",
       "    <tr>\n",
       "      <th>3</th>\n",
       "      <td>0.0</td>\n",
       "      <td>0.0</td>\n",
       "      <td>162.143</td>\n",
       "      <td>0.938368</td>\n",
       "      <td>13.98420</td>\n",
       "      <td>167.667</td>\n",
       "      <td>140.466</td>\n",
       "      <td>147.258</td>\n",
       "      <td>137.583</td>\n",
       "      <td>148.441</td>\n",
       "      <td>...</td>\n",
       "      <td>181.345</td>\n",
       "      <td>176.311</td>\n",
       "      <td>180.235</td>\n",
       "      <td>195.434</td>\n",
       "      <td>169.829</td>\n",
       "      <td>169.888</td>\n",
       "      <td>189.685</td>\n",
       "      <td>171.117</td>\n",
       "      <td>184.097</td>\n",
       "      <td>174.052</td>\n",
       "    </tr>\n",
       "    <tr>\n",
       "      <th>4</th>\n",
       "      <td>0.0</td>\n",
       "      <td>0.0</td>\n",
       "      <td>162.052</td>\n",
       "      <td>1.518550</td>\n",
       "      <td>13.59450</td>\n",
       "      <td>105.430</td>\n",
       "      <td>133.864</td>\n",
       "      <td>132.237</td>\n",
       "      <td>133.363</td>\n",
       "      <td>162.470</td>\n",
       "      <td>...</td>\n",
       "      <td>201.858</td>\n",
       "      <td>199.296</td>\n",
       "      <td>172.530</td>\n",
       "      <td>185.881</td>\n",
       "      <td>182.574</td>\n",
       "      <td>179.304</td>\n",
       "      <td>179.201</td>\n",
       "      <td>197.715</td>\n",
       "      <td>196.222</td>\n",
       "      <td>178.326</td>\n",
       "    </tr>\n",
       "    <tr>\n",
       "      <th>...</th>\n",
       "      <td>...</td>\n",
       "      <td>...</td>\n",
       "      <td>...</td>\n",
       "      <td>...</td>\n",
       "      <td>...</td>\n",
       "      <td>...</td>\n",
       "      <td>...</td>\n",
       "      <td>...</td>\n",
       "      <td>...</td>\n",
       "      <td>...</td>\n",
       "      <td>...</td>\n",
       "      <td>...</td>\n",
       "      <td>...</td>\n",
       "      <td>...</td>\n",
       "      <td>...</td>\n",
       "      <td>...</td>\n",
       "      <td>...</td>\n",
       "      <td>...</td>\n",
       "      <td>...</td>\n",
       "      <td>...</td>\n",
       "      <td>...</td>\n",
       "    </tr>\n",
       "    <tr>\n",
       "      <th>995</th>\n",
       "      <td>0.0</td>\n",
       "      <td>0.0</td>\n",
       "      <td>163.501</td>\n",
       "      <td>1.370700</td>\n",
       "      <td>13.78850</td>\n",
       "      <td>158.024</td>\n",
       "      <td>123.308</td>\n",
       "      <td>147.597</td>\n",
       "      <td>147.523</td>\n",
       "      <td>151.133</td>\n",
       "      <td>...</td>\n",
       "      <td>188.365</td>\n",
       "      <td>147.604</td>\n",
       "      <td>193.942</td>\n",
       "      <td>178.418</td>\n",
       "      <td>220.439</td>\n",
       "      <td>180.953</td>\n",
       "      <td>185.222</td>\n",
       "      <td>215.873</td>\n",
       "      <td>181.464</td>\n",
       "      <td>174.272</td>\n",
       "    </tr>\n",
       "    <tr>\n",
       "      <th>996</th>\n",
       "      <td>0.0</td>\n",
       "      <td>0.0</td>\n",
       "      <td>177.345</td>\n",
       "      <td>1.357770</td>\n",
       "      <td>16.35690</td>\n",
       "      <td>169.410</td>\n",
       "      <td>169.525</td>\n",
       "      <td>153.388</td>\n",
       "      <td>164.124</td>\n",
       "      <td>139.780</td>\n",
       "      <td>...</td>\n",
       "      <td>186.143</td>\n",
       "      <td>203.885</td>\n",
       "      <td>204.135</td>\n",
       "      <td>168.488</td>\n",
       "      <td>212.062</td>\n",
       "      <td>191.274</td>\n",
       "      <td>165.689</td>\n",
       "      <td>221.976</td>\n",
       "      <td>195.533</td>\n",
       "      <td>198.685</td>\n",
       "    </tr>\n",
       "    <tr>\n",
       "      <th>997</th>\n",
       "      <td>0.0</td>\n",
       "      <td>0.0</td>\n",
       "      <td>167.917</td>\n",
       "      <td>0.934248</td>\n",
       "      <td>9.39993</td>\n",
       "      <td>150.333</td>\n",
       "      <td>167.286</td>\n",
       "      <td>163.616</td>\n",
       "      <td>157.721</td>\n",
       "      <td>160.200</td>\n",
       "      <td>...</td>\n",
       "      <td>173.092</td>\n",
       "      <td>175.822</td>\n",
       "      <td>186.097</td>\n",
       "      <td>164.157</td>\n",
       "      <td>182.779</td>\n",
       "      <td>190.073</td>\n",
       "      <td>172.232</td>\n",
       "      <td>186.260</td>\n",
       "      <td>176.683</td>\n",
       "      <td>180.170</td>\n",
       "    </tr>\n",
       "    <tr>\n",
       "      <th>998</th>\n",
       "      <td>0.0</td>\n",
       "      <td>0.0</td>\n",
       "      <td>149.246</td>\n",
       "      <td>1.279910</td>\n",
       "      <td>12.54910</td>\n",
       "      <td>142.644</td>\n",
       "      <td>135.282</td>\n",
       "      <td>130.794</td>\n",
       "      <td>140.889</td>\n",
       "      <td>150.710</td>\n",
       "      <td>...</td>\n",
       "      <td>161.132</td>\n",
       "      <td>163.062</td>\n",
       "      <td>142.754</td>\n",
       "      <td>156.580</td>\n",
       "      <td>182.062</td>\n",
       "      <td>166.229</td>\n",
       "      <td>184.267</td>\n",
       "      <td>157.055</td>\n",
       "      <td>154.158</td>\n",
       "      <td>174.989</td>\n",
       "    </tr>\n",
       "    <tr>\n",
       "      <th>999</th>\n",
       "      <td>0.0</td>\n",
       "      <td>0.0</td>\n",
       "      <td>180.244</td>\n",
       "      <td>0.879268</td>\n",
       "      <td>13.37740</td>\n",
       "      <td>162.915</td>\n",
       "      <td>158.179</td>\n",
       "      <td>179.499</td>\n",
       "      <td>182.155</td>\n",
       "      <td>154.213</td>\n",
       "      <td>...</td>\n",
       "      <td>181.345</td>\n",
       "      <td>199.358</td>\n",
       "      <td>196.751</td>\n",
       "      <td>193.984</td>\n",
       "      <td>210.589</td>\n",
       "      <td>194.830</td>\n",
       "      <td>202.544</td>\n",
       "      <td>209.223</td>\n",
       "      <td>195.341</td>\n",
       "      <td>229.450</td>\n",
       "    </tr>\n",
       "  </tbody>\n",
       "</table>\n",
       "<p>1000 rows × 55 columns</p>\n",
       "</div>"
      ],
      "text/plain": [
       "     lp__  accept_stat__    alpha      beta     sigma  height[1]  height[2]  \\\n",
       "0     0.0            0.0  191.665  1.214450  12.45550    176.350    158.246   \n",
       "1     0.0            0.0  160.409  0.998307  14.99260    164.727    158.551   \n",
       "2     0.0            0.0  166.584  0.752270  12.55630    173.899    154.240   \n",
       "3     0.0            0.0  162.143  0.938368  13.98420    167.667    140.466   \n",
       "4     0.0            0.0  162.052  1.518550  13.59450    105.430    133.864   \n",
       "..    ...            ...      ...       ...       ...        ...        ...   \n",
       "995   0.0            0.0  163.501  1.370700  13.78850    158.024    123.308   \n",
       "996   0.0            0.0  177.345  1.357770  16.35690    169.410    169.525   \n",
       "997   0.0            0.0  167.917  0.934248   9.39993    150.333    167.286   \n",
       "998   0.0            0.0  149.246  1.279910  12.54910    142.644    135.282   \n",
       "999   0.0            0.0  180.244  0.879268  13.37740    162.915    158.179   \n",
       "\n",
       "     height[3]  height[4]  height[5]  ...  height[41]  height[42]  height[43]  \\\n",
       "0      179.409    192.065    206.141  ...     220.890     230.650     227.164   \n",
       "1      158.904    166.127    167.304  ...     212.603     172.811     160.332   \n",
       "2      155.080    165.181    163.020  ...     197.674     159.563     195.698   \n",
       "3      147.258    137.583    148.441  ...     181.345     176.311     180.235   \n",
       "4      132.237    133.363    162.470  ...     201.858     199.296     172.530   \n",
       "..         ...        ...        ...  ...         ...         ...         ...   \n",
       "995    147.597    147.523    151.133  ...     188.365     147.604     193.942   \n",
       "996    153.388    164.124    139.780  ...     186.143     203.885     204.135   \n",
       "997    163.616    157.721    160.200  ...     173.092     175.822     186.097   \n",
       "998    130.794    140.889    150.710  ...     161.132     163.062     142.754   \n",
       "999    179.499    182.155    154.213  ...     181.345     199.358     196.751   \n",
       "\n",
       "     height[44]  height[45]  height[46]  height[47]  height[48]  height[49]  \\\n",
       "0       212.018     192.352     203.656     207.765     221.459     216.290   \n",
       "1       172.127     160.846     183.508     160.819     175.584     197.287   \n",
       "2       181.407     202.264     178.291     191.150     184.784     179.136   \n",
       "3       195.434     169.829     169.888     189.685     171.117     184.097   \n",
       "4       185.881     182.574     179.304     179.201     197.715     196.222   \n",
       "..          ...         ...         ...         ...         ...         ...   \n",
       "995     178.418     220.439     180.953     185.222     215.873     181.464   \n",
       "996     168.488     212.062     191.274     165.689     221.976     195.533   \n",
       "997     164.157     182.779     190.073     172.232     186.260     176.683   \n",
       "998     156.580     182.062     166.229     184.267     157.055     154.158   \n",
       "999     193.984     210.589     194.830     202.544     209.223     195.341   \n",
       "\n",
       "     height[50]  \n",
       "0       221.545  \n",
       "1       177.242  \n",
       "2       182.807  \n",
       "3       174.052  \n",
       "4       178.326  \n",
       "..          ...  \n",
       "995     174.272  \n",
       "996     198.685  \n",
       "997     180.170  \n",
       "998     174.989  \n",
       "999     229.450  \n",
       "\n",
       "[1000 rows x 55 columns]"
      ]
     },
     "execution_count": 43,
     "metadata": {},
     "output_type": "execute_result"
    }
   ],
   "source": [
    "df_5 = sim.draws_pd()\n",
    "df_5"
   ]
  },
  {
   "cell_type": "code",
   "execution_count": 44,
   "metadata": {},
   "outputs": [
    {
     "data": {
      "image/png": "[encoded data removed]",
      "text/plain": [
       "<Figure size 432x288 with 1 Axes>"
      ]
     },
     "metadata": {
      "needs_background": "light"
     },
     "output_type": "display_data"
    },
    {
     "data": {
      "image/png": "[encoded data removed]",
      "text/plain": [
       "<Figure size 432x288 with 1 Axes>"
      ]
     },
     "metadata": {
      "needs_background": "light"
     },
     "output_type": "display_data"
    }
   ],
   "source": [
    "# 1.\n",
    "for signal in ['beta', 'alpha']:\n",
    "    plt.plot(df_5[signal])\n",
    "    plt.title(signal)\n",
    "    plt.show()"
   ]
  },
  {
   "cell_type": "code",
   "execution_count": 46,
   "metadata": {},
   "outputs": [
    {
     "data": {
      "image/png": "[encoded data removed]",
      "text/plain": [
       "<Figure size 432x288 with 1 Axes>"
      ]
     },
     "metadata": {
      "needs_background": "light"
     },
     "output_type": "display_data"
    }
   ],
   "source": [
    "# 2.\n",
    "heights_max = []\n",
    "heights_min = []\n",
    "for i in range(1, 51):\n",
    "    height_num = \"height[\" + str(i) + \"]\"\n",
    "    heights_max.append(df_5[height_num].max())\n",
    "    heights_min.append(df_5[height_num].min())\n",
    "\n",
    "plt.plot(heights_max, label='Heights MAX')\n",
    "plt.plot(heights_min, label='Heights MIN')\n",
    "plt.plot([251] * len(heights_max), label='Tallest person (Wikipedia)', color='red')\n",
    "plt.plot([54] * len(heights_max), label='Shortest person (Wikipedia)', color='green')\n",
    "plt.legend()\n",
    "plt.show()"
   ]
  },
  {
   "attachments": {},
   "cell_type": "markdown",
   "metadata": {},
   "source": [
    "## Task 6. Fitting and evaluating model\n"
   ]
  },
  {
   "cell_type": "code",
   "execution_count": 48,
   "metadata": {},
   "outputs": [
    {
     "name": "stderr",
     "output_type": "stream",
     "text": [
      "INFO:cmdstanpy:found newer exe file, not recompiling\n"
     ]
    }
   ],
   "source": [
    "model_2_fit=CmdStanModel(stan_file='height_2_fit.stan')"
   ]
  },
  {
   "attachments": {},
   "cell_type": "markdown",
   "metadata": {},
   "source": [
    "1. Create ```data_fit``` dictionary containing data from  ```N``` first rows of dataframe\n"
   ]
  },
  {
   "cell_type": "code",
   "execution_count": 49,
   "metadata": {},
   "outputs": [
    {
     "name": "stderr",
     "output_type": "stream",
     "text": [
      "INFO:cmdstanpy:CmdStan start processing\n",
      "chain 1 |\u001b[33m          \u001b[0m| 00:00 Status\n",
      "\u001b[A\n",
      "\n",
      "chain 1 |\u001b[33m▉         \u001b[0m| 00:00 Iteration:    1 / 2000 [  0%]  (Warmup)\n",
      "\u001b[A\n",
      "\n",
      "chain 1 |\u001b[34m█████▉    \u001b[0m| 00:00 Iteration: 1001 / 2000 [ 50%]  (Sampling)\n",
      "\u001b[A\n",
      "\n",
      "chain 1 |\u001b[34m█████████ \u001b[0m| 00:00 Iteration: 1700 / 2000 [ 85%]  (Sampling)\n",
      "\u001b[A\n",
      "\n",
      "chain 1 |\u001b[34m██████████\u001b[0m| 00:00 Sampling completed                       \n",
      "chain 2 |\u001b[34m██████████\u001b[0m| 00:00 Sampling completed                       \n",
      "chain 3 |\u001b[34m██████████\u001b[0m| 00:00 Sampling completed                       \n",
      "chain 4 |\u001b[34m██████████\u001b[0m| 00:00 Sampling completed                       "
     ]
    },
    {
     "name": "stdout",
     "output_type": "stream",
     "text": [
      "                                                                                                                                                                                                                                                                                                                                "
     ]
    },
    {
     "name": "stderr",
     "output_type": "stream",
     "text": [
      "\n",
      "INFO:cmdstanpy:CmdStan done processing.\n"
     ]
    },
    {
     "name": "stdout",
     "output_type": "stream",
     "text": [
      "\n"
     ]
    }
   ],
   "source": [
    "N=50\n",
    "data_fit = {'N':50, 'heights': d['height'].head(50), 'weight': d['weight'].head(50)}\n",
    "fit=model_2_fit.sample(data=data_fit,seed=28052020)"
   ]
  },
  {
   "attachments": {},
   "cell_type": "markdown",
   "metadata": {},
   "source": [
    "2. Plot lines for each sampled slope beta and intercept alpha. Verify how uncertainity changes with increasing of sample (N)\n",
    "2. For each value of weight plot mean simulated height along with errorbar of one standard deviation (use ```errorbar``` from matplotlib). Compare with observed data (N points). Is observed data possible within the posterior model? What changes when N increases.\n"
   ]
  },
  {
   "cell_type": "code",
   "execution_count": 50,
   "metadata": {},
   "outputs": [
    {
     "data": {
      "text/html": [
       "<div>\n",
       "<style scoped>\n",
       "    .dataframe tbody tr th:only-of-type {\n",
       "        vertical-align: middle;\n",
       "    }\n",
       "\n",
       "    .dataframe tbody tr th {\n",
       "        vertical-align: top;\n",
       "    }\n",
       "\n",
       "    .dataframe thead th {\n",
       "        text-align: right;\n",
       "    }\n",
       "</style>\n",
       "<table border=\"1\" class=\"dataframe\">\n",
       "  <thead>\n",
       "    <tr style=\"text-align: right;\">\n",
       "      <th></th>\n",
       "      <th>lp__</th>\n",
       "      <th>accept_stat__</th>\n",
       "      <th>stepsize__</th>\n",
       "      <th>treedepth__</th>\n",
       "      <th>n_leapfrog__</th>\n",
       "      <th>divergent__</th>\n",
       "      <th>energy__</th>\n",
       "      <th>alpha</th>\n",
       "      <th>sigma</th>\n",
       "      <th>beta</th>\n",
       "      <th>...</th>\n",
       "      <th>height_pred[41]</th>\n",
       "      <th>height_pred[42]</th>\n",
       "      <th>height_pred[43]</th>\n",
       "      <th>height_pred[44]</th>\n",
       "      <th>height_pred[45]</th>\n",
       "      <th>height_pred[46]</th>\n",
       "      <th>height_pred[47]</th>\n",
       "      <th>height_pred[48]</th>\n",
       "      <th>height_pred[49]</th>\n",
       "      <th>height_pred[50]</th>\n",
       "    </tr>\n",
       "  </thead>\n",
       "  <tbody>\n",
       "    <tr>\n",
       "      <th>0</th>\n",
       "      <td>-149.473</td>\n",
       "      <td>0.997664</td>\n",
       "      <td>0.314947</td>\n",
       "      <td>3.0</td>\n",
       "      <td>7.0</td>\n",
       "      <td>0.0</td>\n",
       "      <td>149.872</td>\n",
       "      <td>138.429</td>\n",
       "      <td>13.1110</td>\n",
       "      <td>0.383509</td>\n",
       "      <td>...</td>\n",
       "      <td>151.458</td>\n",
       "      <td>173.163</td>\n",
       "      <td>173.051</td>\n",
       "      <td>149.155</td>\n",
       "      <td>166.740</td>\n",
       "      <td>160.350</td>\n",
       "      <td>166.516</td>\n",
       "      <td>156.028</td>\n",
       "      <td>168.597</td>\n",
       "      <td>150.121</td>\n",
       "    </tr>\n",
       "    <tr>\n",
       "      <th>1</th>\n",
       "      <td>-149.225</td>\n",
       "      <td>0.999471</td>\n",
       "      <td>0.314947</td>\n",
       "      <td>4.0</td>\n",
       "      <td>15.0</td>\n",
       "      <td>0.0</td>\n",
       "      <td>150.047</td>\n",
       "      <td>124.037</td>\n",
       "      <td>11.4782</td>\n",
       "      <td>0.659539</td>\n",
       "      <td>...</td>\n",
       "      <td>140.255</td>\n",
       "      <td>173.644</td>\n",
       "      <td>148.284</td>\n",
       "      <td>158.312</td>\n",
       "      <td>156.316</td>\n",
       "      <td>150.833</td>\n",
       "      <td>162.221</td>\n",
       "      <td>146.527</td>\n",
       "      <td>144.650</td>\n",
       "      <td>143.280</td>\n",
       "    </tr>\n",
       "    <tr>\n",
       "      <th>2</th>\n",
       "      <td>-148.912</td>\n",
       "      <td>0.993617</td>\n",
       "      <td>0.314947</td>\n",
       "      <td>3.0</td>\n",
       "      <td>15.0</td>\n",
       "      <td>0.0</td>\n",
       "      <td>151.348</td>\n",
       "      <td>130.053</td>\n",
       "      <td>13.5126</td>\n",
       "      <td>0.560340</td>\n",
       "      <td>...</td>\n",
       "      <td>147.649</td>\n",
       "      <td>165.952</td>\n",
       "      <td>173.778</td>\n",
       "      <td>166.557</td>\n",
       "      <td>168.919</td>\n",
       "      <td>159.330</td>\n",
       "      <td>152.468</td>\n",
       "      <td>148.594</td>\n",
       "      <td>149.909</td>\n",
       "      <td>141.549</td>\n",
       "    </tr>\n",
       "    <tr>\n",
       "      <th>3</th>\n",
       "      <td>-148.021</td>\n",
       "      <td>0.992753</td>\n",
       "      <td>0.314947</td>\n",
       "      <td>3.0</td>\n",
       "      <td>15.0</td>\n",
       "      <td>0.0</td>\n",
       "      <td>149.620</td>\n",
       "      <td>127.863</td>\n",
       "      <td>11.6265</td>\n",
       "      <td>0.594381</td>\n",
       "      <td>...</td>\n",
       "      <td>174.039</td>\n",
       "      <td>162.218</td>\n",
       "      <td>160.634</td>\n",
       "      <td>159.692</td>\n",
       "      <td>173.380</td>\n",
       "      <td>160.816</td>\n",
       "      <td>160.317</td>\n",
       "      <td>141.741</td>\n",
       "      <td>170.353</td>\n",
       "      <td>151.998</td>\n",
       "    </tr>\n",
       "    <tr>\n",
       "      <th>4</th>\n",
       "      <td>-148.218</td>\n",
       "      <td>0.841035</td>\n",
       "      <td>0.314947</td>\n",
       "      <td>3.0</td>\n",
       "      <td>15.0</td>\n",
       "      <td>0.0</td>\n",
       "      <td>149.811</td>\n",
       "      <td>132.994</td>\n",
       "      <td>12.4711</td>\n",
       "      <td>0.523764</td>\n",
       "      <td>...</td>\n",
       "      <td>145.147</td>\n",
       "      <td>166.233</td>\n",
       "      <td>135.674</td>\n",
       "      <td>153.769</td>\n",
       "      <td>171.615</td>\n",
       "      <td>168.415</td>\n",
       "      <td>171.024</td>\n",
       "      <td>177.213</td>\n",
       "      <td>194.805</td>\n",
       "      <td>161.762</td>\n",
       "    </tr>\n",
       "    <tr>\n",
       "      <th>...</th>\n",
       "      <td>...</td>\n",
       "      <td>...</td>\n",
       "      <td>...</td>\n",
       "      <td>...</td>\n",
       "      <td>...</td>\n",
       "      <td>...</td>\n",
       "      <td>...</td>\n",
       "      <td>...</td>\n",
       "      <td>...</td>\n",
       "      <td>...</td>\n",
       "      <td>...</td>\n",
       "      <td>...</td>\n",
       "      <td>...</td>\n",
       "      <td>...</td>\n",
       "      <td>...</td>\n",
       "      <td>...</td>\n",
       "      <td>...</td>\n",
       "      <td>...</td>\n",
       "      <td>...</td>\n",
       "      <td>...</td>\n",
       "      <td>...</td>\n",
       "    </tr>\n",
       "    <tr>\n",
       "      <th>3995</th>\n",
       "      <td>-152.415</td>\n",
       "      <td>0.918259</td>\n",
       "      <td>0.337894</td>\n",
       "      <td>2.0</td>\n",
       "      <td>3.0</td>\n",
       "      <td>0.0</td>\n",
       "      <td>152.646</td>\n",
       "      <td>118.754</td>\n",
       "      <td>12.2205</td>\n",
       "      <td>0.748248</td>\n",
       "      <td>...</td>\n",
       "      <td>143.082</td>\n",
       "      <td>176.802</td>\n",
       "      <td>172.927</td>\n",
       "      <td>153.023</td>\n",
       "      <td>140.979</td>\n",
       "      <td>165.460</td>\n",
       "      <td>142.366</td>\n",
       "      <td>178.257</td>\n",
       "      <td>153.672</td>\n",
       "      <td>160.481</td>\n",
       "    </tr>\n",
       "    <tr>\n",
       "      <th>3996</th>\n",
       "      <td>-149.860</td>\n",
       "      <td>0.866920</td>\n",
       "      <td>0.337894</td>\n",
       "      <td>3.0</td>\n",
       "      <td>7.0</td>\n",
       "      <td>0.0</td>\n",
       "      <td>153.939</td>\n",
       "      <td>124.332</td>\n",
       "      <td>12.4878</td>\n",
       "      <td>0.618021</td>\n",
       "      <td>...</td>\n",
       "      <td>154.808</td>\n",
       "      <td>153.720</td>\n",
       "      <td>169.035</td>\n",
       "      <td>128.892</td>\n",
       "      <td>158.027</td>\n",
       "      <td>151.702</td>\n",
       "      <td>172.363</td>\n",
       "      <td>177.425</td>\n",
       "      <td>164.825</td>\n",
       "      <td>148.528</td>\n",
       "    </tr>\n",
       "    <tr>\n",
       "      <th>3997</th>\n",
       "      <td>-148.702</td>\n",
       "      <td>0.997645</td>\n",
       "      <td>0.337894</td>\n",
       "      <td>4.0</td>\n",
       "      <td>15.0</td>\n",
       "      <td>0.0</td>\n",
       "      <td>149.874</td>\n",
       "      <td>136.019</td>\n",
       "      <td>11.2503</td>\n",
       "      <td>0.447867</td>\n",
       "      <td>...</td>\n",
       "      <td>153.794</td>\n",
       "      <td>171.442</td>\n",
       "      <td>140.328</td>\n",
       "      <td>158.728</td>\n",
       "      <td>155.619</td>\n",
       "      <td>140.843</td>\n",
       "      <td>151.814</td>\n",
       "      <td>162.678</td>\n",
       "      <td>141.922</td>\n",
       "      <td>154.435</td>\n",
       "    </tr>\n",
       "    <tr>\n",
       "      <th>3998</th>\n",
       "      <td>-149.725</td>\n",
       "      <td>0.691555</td>\n",
       "      <td>0.337894</td>\n",
       "      <td>2.0</td>\n",
       "      <td>3.0</td>\n",
       "      <td>0.0</td>\n",
       "      <td>151.202</td>\n",
       "      <td>133.187</td>\n",
       "      <td>11.3322</td>\n",
       "      <td>0.410776</td>\n",
       "      <td>...</td>\n",
       "      <td>147.623</td>\n",
       "      <td>156.048</td>\n",
       "      <td>171.915</td>\n",
       "      <td>146.873</td>\n",
       "      <td>163.660</td>\n",
       "      <td>148.847</td>\n",
       "      <td>157.288</td>\n",
       "      <td>156.035</td>\n",
       "      <td>167.857</td>\n",
       "      <td>162.339</td>\n",
       "    </tr>\n",
       "    <tr>\n",
       "      <th>3999</th>\n",
       "      <td>-149.494</td>\n",
       "      <td>0.991437</td>\n",
       "      <td>0.337894</td>\n",
       "      <td>3.0</td>\n",
       "      <td>9.0</td>\n",
       "      <td>0.0</td>\n",
       "      <td>151.132</td>\n",
       "      <td>133.776</td>\n",
       "      <td>12.9097</td>\n",
       "      <td>0.537013</td>\n",
       "      <td>...</td>\n",
       "      <td>155.846</td>\n",
       "      <td>144.534</td>\n",
       "      <td>175.514</td>\n",
       "      <td>169.117</td>\n",
       "      <td>191.285</td>\n",
       "      <td>175.216</td>\n",
       "      <td>183.416</td>\n",
       "      <td>168.839</td>\n",
       "      <td>179.307</td>\n",
       "      <td>153.281</td>\n",
       "    </tr>\n",
       "  </tbody>\n",
       "</table>\n",
       "<p>4000 rows × 110 columns</p>\n",
       "</div>"
      ],
      "text/plain": [
       "         lp__  accept_stat__  stepsize__  treedepth__  n_leapfrog__  \\\n",
       "0    -149.473       0.997664    0.314947          3.0           7.0   \n",
       "1    -149.225       0.999471    0.314947          4.0          15.0   \n",
       "2    -148.912       0.993617    0.314947          3.0          15.0   \n",
       "3    -148.021       0.992753    0.314947          3.0          15.0   \n",
       "4    -148.218       0.841035    0.314947          3.0          15.0   \n",
       "...       ...            ...         ...          ...           ...   \n",
       "3995 -152.415       0.918259    0.337894          2.0           3.0   \n",
       "3996 -149.860       0.866920    0.337894          3.0           7.0   \n",
       "3997 -148.702       0.997645    0.337894          4.0          15.0   \n",
       "3998 -149.725       0.691555    0.337894          2.0           3.0   \n",
       "3999 -149.494       0.991437    0.337894          3.0           9.0   \n",
       "\n",
       "      divergent__  energy__    alpha    sigma      beta  ...  height_pred[41]  \\\n",
       "0             0.0   149.872  138.429  13.1110  0.383509  ...          151.458   \n",
       "1             0.0   150.047  124.037  11.4782  0.659539  ...          140.255   \n",
       "2             0.0   151.348  130.053  13.5126  0.560340  ...          147.649   \n",
       "3             0.0   149.620  127.863  11.6265  0.594381  ...          174.039   \n",
       "4             0.0   149.811  132.994  12.4711  0.523764  ...          145.147   \n",
       "...           ...       ...      ...      ...       ...  ...              ...   \n",
       "3995          0.0   152.646  118.754  12.2205  0.748248  ...          143.082   \n",
       "3996          0.0   153.939  124.332  12.4878  0.618021  ...          154.808   \n",
       "3997          0.0   149.874  136.019  11.2503  0.447867  ...          153.794   \n",
       "3998          0.0   151.202  133.187  11.3322  0.410776  ...          147.623   \n",
       "3999          0.0   151.132  133.776  12.9097  0.537013  ...          155.846   \n",
       "\n",
       "      height_pred[42]  height_pred[43]  height_pred[44]  height_pred[45]  \\\n",
       "0             173.163          173.051          149.155          166.740   \n",
       "1             173.644          148.284          158.312          156.316   \n",
       "2             165.952          173.778          166.557          168.919   \n",
       "3             162.218          160.634          159.692          173.380   \n",
       "4             166.233          135.674          153.769          171.615   \n",
       "...               ...              ...              ...              ...   \n",
       "3995          176.802          172.927          153.023          140.979   \n",
       "3996          153.720          169.035          128.892          158.027   \n",
       "3997          171.442          140.328          158.728          155.619   \n",
       "3998          156.048          171.915          146.873          163.660   \n",
       "3999          144.534          175.514          169.117          191.285   \n",
       "\n",
       "      height_pred[46]  height_pred[47]  height_pred[48]  height_pred[49]  \\\n",
       "0             160.350          166.516          156.028          168.597   \n",
       "1             150.833          162.221          146.527          144.650   \n",
       "2             159.330          152.468          148.594          149.909   \n",
       "3             160.816          160.317          141.741          170.353   \n",
       "4             168.415          171.024          177.213          194.805   \n",
       "...               ...              ...              ...              ...   \n",
       "3995          165.460          142.366          178.257          153.672   \n",
       "3996          151.702          172.363          177.425          164.825   \n",
       "3997          140.843          151.814          162.678          141.922   \n",
       "3998          148.847          157.288          156.035          167.857   \n",
       "3999          175.216          183.416          168.839          179.307   \n",
       "\n",
       "      height_pred[50]  \n",
       "0             150.121  \n",
       "1             143.280  \n",
       "2             141.549  \n",
       "3             151.998  \n",
       "4             161.762  \n",
       "...               ...  \n",
       "3995          160.481  \n",
       "3996          148.528  \n",
       "3997          154.435  \n",
       "3998          162.339  \n",
       "3999          153.281  \n",
       "\n",
       "[4000 rows x 110 columns]"
      ]
     },
     "execution_count": 50,
     "metadata": {},
     "output_type": "execute_result"
    }
   ],
   "source": [
    "df_6 = fit.draws_pd()\n",
    "df_6"
   ]
  },
  {
   "cell_type": "code",
   "execution_count": 51,
   "metadata": {},
   "outputs": [
    {
     "data": {
      "image/png": "[encoded data removed]",
      "text/plain": [
       "<Figure size 432x288 with 1 Axes>"
      ]
     },
     "metadata": {
      "needs_background": "light"
     },
     "output_type": "display_data"
    },
    {
     "data": {
      "image/png": "[encoded data removed]",
      "text/plain": [
       "<Figure size 432x288 with 1 Axes>"
      ]
     },
     "metadata": {
      "needs_background": "light"
     },
     "output_type": "display_data"
    }
   ],
   "source": [
    "# 1.\n",
    "for signal in ['beta', 'alpha']:\n",
    "    plt.plot(df_5[signal])\n",
    "    plt.title(signal)\n",
    "    plt.show()"
   ]
  },
  {
   "cell_type": "code",
   "execution_count": 53,
   "metadata": {},
   "outputs": [
    {
     "data": {
      "image/png": "[encoded data removed]",
      "text/plain": [
       "<Figure size 864x576 with 1 Axes>"
      ]
     },
     "metadata": {
      "needs_background": "light"
     },
     "output_type": "display_data"
    }
   ],
   "source": [
    "#2.\n",
    "weights = d['weight'].head(50)\n",
    "heights = df_6.iloc[:,60:110]\n",
    "std = heights.std()[:50]\n",
    "mean = heights.mean()[:50]\n",
    "\n",
    "plt.figure(figsize=(12,8))\n",
    "plt.errorbar(weights, mean, yerr=std, fmt='o', elinewidth = 1.5)\n",
    "plt.xlabel('weight')\n",
    "plt.ylabel('height')\n",
    "plt.show()"
   ]
  },
  {
   "cell_type": "code",
   "execution_count": 54,
   "metadata": {},
   "outputs": [
    {
     "data": {
      "image/png": "[encoded data removed]",
      "text/plain": [
       "<Figure size 720x432 with 1 Axes>"
      ]
     },
     "metadata": {
      "needs_background": "light"
     },
     "output_type": "display_data"
    }
   ],
   "source": [
    "real_heights = d['height'].head(50)\n",
    "\n",
    "plt.figure(figsize=(10,6))\n",
    "plt.scatter(weights, real_heights)\n",
    "plt.scatter(weights, mean)\n",
    "plt.title(\"Mean simulated height and real height by weight\")\n",
    "plt.xlabel('weight')\n",
    "plt.ylabel('height')\n",
    "plt.legend([\"real height\", \"simulated height\"], loc='lower right')\n",
    "plt.show()"
   ]
  },
  {
   "attachments": {},
   "cell_type": "markdown",
   "metadata": {},
   "source": [
    "## Task 7. Extending the model\n",
    "\n",
    "1. Center the weight data (substract mean vaule of weight from all values). Test how model works for such data. What is the interpretation of $\\alpha$ in such case?\n",
    "2. Using centered data modify your model with a second power of weight, select prior for its coefficient using prior predictive checks and after fitting check if model is still good.\n",
    "3. Try to vectorize the model to avoid necessity of a for loop in the ```model``` block. "
   ]
  },
  {
   "cell_type": "code",
   "execution_count": 55,
   "metadata": {},
   "outputs": [
    {
     "name": "stderr",
     "output_type": "stream",
     "text": [
      "INFO:cmdstanpy:CmdStan start processing\n",
      "chain 1 |\u001b[33m          \u001b[0m| 00:00 Status\n",
      "\u001b[A\n",
      "\n",
      "chain 1 |\u001b[33m▉         \u001b[0m| 00:00 Iteration:    1 / 2000 [  0%]  (Warmup)\n",
      "\u001b[A\n",
      "\n",
      "chain 1 |\u001b[34m██████▎   \u001b[0m| 00:00 Iteration: 1100 / 2000 [ 55%]  (Sampling)\n",
      "\u001b[A\n",
      "\n",
      "chain 1 |\u001b[34m██████████\u001b[0m| 00:00 Iteration: 1900 / 2000 [ 95%]  (Sampling)\n",
      "chain 1 |\u001b[34m██████████\u001b[0m| 00:00 Sampling completed                       \n",
      "chain 2 |\u001b[34m██████████\u001b[0m| 00:00 Sampling completed                       \n",
      "chain 3 |\u001b[34m██████████\u001b[0m| 00:00 Sampling completed                       \n",
      "chain 4 |\u001b[34m██████████\u001b[0m| 00:00 Sampling completed                       "
     ]
    },
    {
     "name": "stdout",
     "output_type": "stream",
     "text": [
      "                                                                                                                                                                                                                                                                                                                                "
     ]
    },
    {
     "name": "stderr",
     "output_type": "stream",
     "text": [
      "\n",
      "INFO:cmdstanpy:CmdStan done processing.\n"
     ]
    },
    {
     "name": "stdout",
     "output_type": "stream",
     "text": [
      "\n"
     ]
    }
   ],
   "source": [
    "data_fit7={'N':50, 'heights': d['height'].head(50), 'weight':d['c_weight'].head(50)}\n",
    "fit=model_2_fit.sample(data=data_fit7,seed=28052020)"
   ]
  },
  {
   "cell_type": "code",
   "execution_count": 56,
   "metadata": {},
   "outputs": [
    {
     "data": {
      "text/html": [
       "<div>\n",
       "<style scoped>\n",
       "    .dataframe tbody tr th:only-of-type {\n",
       "        vertical-align: middle;\n",
       "    }\n",
       "\n",
       "    .dataframe tbody tr th {\n",
       "        vertical-align: top;\n",
       "    }\n",
       "\n",
       "    .dataframe thead th {\n",
       "        text-align: right;\n",
       "    }\n",
       "</style>\n",
       "<table border=\"1\" class=\"dataframe\">\n",
       "  <thead>\n",
       "    <tr style=\"text-align: right;\">\n",
       "      <th></th>\n",
       "      <th>lp__</th>\n",
       "      <th>accept_stat__</th>\n",
       "      <th>stepsize__</th>\n",
       "      <th>treedepth__</th>\n",
       "      <th>n_leapfrog__</th>\n",
       "      <th>divergent__</th>\n",
       "      <th>energy__</th>\n",
       "      <th>alpha</th>\n",
       "      <th>sigma</th>\n",
       "      <th>beta</th>\n",
       "      <th>...</th>\n",
       "      <th>height_pred[41]</th>\n",
       "      <th>height_pred[42]</th>\n",
       "      <th>height_pred[43]</th>\n",
       "      <th>height_pred[44]</th>\n",
       "      <th>height_pred[45]</th>\n",
       "      <th>height_pred[46]</th>\n",
       "      <th>height_pred[47]</th>\n",
       "      <th>height_pred[48]</th>\n",
       "      <th>height_pred[49]</th>\n",
       "      <th>height_pred[50]</th>\n",
       "    </tr>\n",
       "  </thead>\n",
       "  <tbody>\n",
       "    <tr>\n",
       "      <th>0</th>\n",
       "      <td>-134.333</td>\n",
       "      <td>0.962576</td>\n",
       "      <td>0.777072</td>\n",
       "      <td>3.0</td>\n",
       "      <td>7.0</td>\n",
       "      <td>0.0</td>\n",
       "      <td>135.279</td>\n",
       "      <td>154.064</td>\n",
       "      <td>11.5889</td>\n",
       "      <td>0.702025</td>\n",
       "      <td>...</td>\n",
       "      <td>144.283</td>\n",
       "      <td>172.315</td>\n",
       "      <td>154.418</td>\n",
       "      <td>157.237</td>\n",
       "      <td>174.801</td>\n",
       "      <td>166.062</td>\n",
       "      <td>170.641</td>\n",
       "      <td>136.889</td>\n",
       "      <td>157.836</td>\n",
       "      <td>165.890</td>\n",
       "    </tr>\n",
       "    <tr>\n",
       "      <th>1</th>\n",
       "      <td>-133.514</td>\n",
       "      <td>0.997371</td>\n",
       "      <td>0.777072</td>\n",
       "      <td>3.0</td>\n",
       "      <td>7.0</td>\n",
       "      <td>0.0</td>\n",
       "      <td>134.746</td>\n",
       "      <td>153.085</td>\n",
       "      <td>10.8085</td>\n",
       "      <td>0.919494</td>\n",
       "      <td>...</td>\n",
       "      <td>146.337</td>\n",
       "      <td>183.619</td>\n",
       "      <td>136.827</td>\n",
       "      <td>152.716</td>\n",
       "      <td>145.959</td>\n",
       "      <td>175.383</td>\n",
       "      <td>163.927</td>\n",
       "      <td>169.069</td>\n",
       "      <td>142.217</td>\n",
       "      <td>177.978</td>\n",
       "    </tr>\n",
       "    <tr>\n",
       "      <th>2</th>\n",
       "      <td>-135.621</td>\n",
       "      <td>0.809256</td>\n",
       "      <td>0.777072</td>\n",
       "      <td>3.0</td>\n",
       "      <td>7.0</td>\n",
       "      <td>0.0</td>\n",
       "      <td>136.653</td>\n",
       "      <td>152.140</td>\n",
       "      <td>13.5648</td>\n",
       "      <td>1.033990</td>\n",
       "      <td>...</td>\n",
       "      <td>158.117</td>\n",
       "      <td>175.466</td>\n",
       "      <td>134.892</td>\n",
       "      <td>152.233</td>\n",
       "      <td>141.014</td>\n",
       "      <td>163.226</td>\n",
       "      <td>160.837</td>\n",
       "      <td>149.946</td>\n",
       "      <td>160.776</td>\n",
       "      <td>171.130</td>\n",
       "    </tr>\n",
       "    <tr>\n",
       "      <th>3</th>\n",
       "      <td>-134.630</td>\n",
       "      <td>1.000000</td>\n",
       "      <td>0.777072</td>\n",
       "      <td>2.0</td>\n",
       "      <td>3.0</td>\n",
       "      <td>0.0</td>\n",
       "      <td>135.581</td>\n",
       "      <td>151.983</td>\n",
       "      <td>12.7357</td>\n",
       "      <td>1.040630</td>\n",
       "      <td>...</td>\n",
       "      <td>131.292</td>\n",
       "      <td>178.733</td>\n",
       "      <td>129.170</td>\n",
       "      <td>165.255</td>\n",
       "      <td>148.212</td>\n",
       "      <td>185.405</td>\n",
       "      <td>172.831</td>\n",
       "      <td>155.456</td>\n",
       "      <td>163.505</td>\n",
       "      <td>137.856</td>\n",
       "    </tr>\n",
       "    <tr>\n",
       "      <th>4</th>\n",
       "      <td>-134.093</td>\n",
       "      <td>1.000000</td>\n",
       "      <td>0.777072</td>\n",
       "      <td>2.0</td>\n",
       "      <td>3.0</td>\n",
       "      <td>0.0</td>\n",
       "      <td>134.891</td>\n",
       "      <td>153.259</td>\n",
       "      <td>12.5120</td>\n",
       "      <td>1.069140</td>\n",
       "      <td>...</td>\n",
       "      <td>157.115</td>\n",
       "      <td>148.353</td>\n",
       "      <td>164.409</td>\n",
       "      <td>150.154</td>\n",
       "      <td>157.618</td>\n",
       "      <td>164.676</td>\n",
       "      <td>184.849</td>\n",
       "      <td>158.944</td>\n",
       "      <td>170.148</td>\n",
       "      <td>157.578</td>\n",
       "    </tr>\n",
       "    <tr>\n",
       "      <th>...</th>\n",
       "      <td>...</td>\n",
       "      <td>...</td>\n",
       "      <td>...</td>\n",
       "      <td>...</td>\n",
       "      <td>...</td>\n",
       "      <td>...</td>\n",
       "      <td>...</td>\n",
       "      <td>...</td>\n",
       "      <td>...</td>\n",
       "      <td>...</td>\n",
       "      <td>...</td>\n",
       "      <td>...</td>\n",
       "      <td>...</td>\n",
       "      <td>...</td>\n",
       "      <td>...</td>\n",
       "      <td>...</td>\n",
       "      <td>...</td>\n",
       "      <td>...</td>\n",
       "      <td>...</td>\n",
       "      <td>...</td>\n",
       "      <td>...</td>\n",
       "    </tr>\n",
       "    <tr>\n",
       "      <th>3995</th>\n",
       "      <td>-134.262</td>\n",
       "      <td>0.753939</td>\n",
       "      <td>0.827173</td>\n",
       "      <td>2.0</td>\n",
       "      <td>7.0</td>\n",
       "      <td>0.0</td>\n",
       "      <td>137.701</td>\n",
       "      <td>152.266</td>\n",
       "      <td>12.0405</td>\n",
       "      <td>1.092100</td>\n",
       "      <td>...</td>\n",
       "      <td>170.795</td>\n",
       "      <td>169.752</td>\n",
       "      <td>137.346</td>\n",
       "      <td>150.194</td>\n",
       "      <td>173.759</td>\n",
       "      <td>171.660</td>\n",
       "      <td>152.388</td>\n",
       "      <td>169.958</td>\n",
       "      <td>158.717</td>\n",
       "      <td>141.794</td>\n",
       "    </tr>\n",
       "    <tr>\n",
       "      <th>3996</th>\n",
       "      <td>-133.591</td>\n",
       "      <td>0.980164</td>\n",
       "      <td>0.827173</td>\n",
       "      <td>2.0</td>\n",
       "      <td>7.0</td>\n",
       "      <td>0.0</td>\n",
       "      <td>134.641</td>\n",
       "      <td>152.356</td>\n",
       "      <td>11.4726</td>\n",
       "      <td>0.953501</td>\n",
       "      <td>...</td>\n",
       "      <td>169.243</td>\n",
       "      <td>179.802</td>\n",
       "      <td>161.237</td>\n",
       "      <td>152.503</td>\n",
       "      <td>155.809</td>\n",
       "      <td>154.718</td>\n",
       "      <td>161.395</td>\n",
       "      <td>163.382</td>\n",
       "      <td>157.350</td>\n",
       "      <td>174.606</td>\n",
       "    </tr>\n",
       "    <tr>\n",
       "      <th>3997</th>\n",
       "      <td>-134.352</td>\n",
       "      <td>0.852889</td>\n",
       "      <td>0.827173</td>\n",
       "      <td>2.0</td>\n",
       "      <td>3.0</td>\n",
       "      <td>0.0</td>\n",
       "      <td>135.073</td>\n",
       "      <td>155.943</td>\n",
       "      <td>12.1262</td>\n",
       "      <td>0.911222</td>\n",
       "      <td>...</td>\n",
       "      <td>164.846</td>\n",
       "      <td>184.895</td>\n",
       "      <td>143.172</td>\n",
       "      <td>154.113</td>\n",
       "      <td>166.180</td>\n",
       "      <td>162.801</td>\n",
       "      <td>135.729</td>\n",
       "      <td>153.924</td>\n",
       "      <td>171.484</td>\n",
       "      <td>155.919</td>\n",
       "    </tr>\n",
       "    <tr>\n",
       "      <th>3998</th>\n",
       "      <td>-136.539</td>\n",
       "      <td>0.834350</td>\n",
       "      <td>0.827173</td>\n",
       "      <td>2.0</td>\n",
       "      <td>3.0</td>\n",
       "      <td>0.0</td>\n",
       "      <td>137.144</td>\n",
       "      <td>151.732</td>\n",
       "      <td>10.8613</td>\n",
       "      <td>1.275190</td>\n",
       "      <td>...</td>\n",
       "      <td>141.825</td>\n",
       "      <td>160.624</td>\n",
       "      <td>139.892</td>\n",
       "      <td>149.560</td>\n",
       "      <td>175.844</td>\n",
       "      <td>157.569</td>\n",
       "      <td>164.257</td>\n",
       "      <td>165.014</td>\n",
       "      <td>166.936</td>\n",
       "      <td>152.120</td>\n",
       "    </tr>\n",
       "    <tr>\n",
       "      <th>3999</th>\n",
       "      <td>-135.832</td>\n",
       "      <td>1.000000</td>\n",
       "      <td>0.827173</td>\n",
       "      <td>2.0</td>\n",
       "      <td>3.0</td>\n",
       "      <td>0.0</td>\n",
       "      <td>136.659</td>\n",
       "      <td>152.133</td>\n",
       "      <td>10.7701</td>\n",
       "      <td>1.232970</td>\n",
       "      <td>...</td>\n",
       "      <td>154.832</td>\n",
       "      <td>176.617</td>\n",
       "      <td>153.821</td>\n",
       "      <td>152.147</td>\n",
       "      <td>165.011</td>\n",
       "      <td>154.354</td>\n",
       "      <td>154.345</td>\n",
       "      <td>137.889</td>\n",
       "      <td>167.122</td>\n",
       "      <td>143.032</td>\n",
       "    </tr>\n",
       "  </tbody>\n",
       "</table>\n",
       "<p>4000 rows × 110 columns</p>\n",
       "</div>"
      ],
      "text/plain": [
       "         lp__  accept_stat__  stepsize__  treedepth__  n_leapfrog__  \\\n",
       "0    -134.333       0.962576    0.777072          3.0           7.0   \n",
       "1    -133.514       0.997371    0.777072          3.0           7.0   \n",
       "2    -135.621       0.809256    0.777072          3.0           7.0   \n",
       "3    -134.630       1.000000    0.777072          2.0           3.0   \n",
       "4    -134.093       1.000000    0.777072          2.0           3.0   \n",
       "...       ...            ...         ...          ...           ...   \n",
       "3995 -134.262       0.753939    0.827173          2.0           7.0   \n",
       "3996 -133.591       0.980164    0.827173          2.0           7.0   \n",
       "3997 -134.352       0.852889    0.827173          2.0           3.0   \n",
       "3998 -136.539       0.834350    0.827173          2.0           3.0   \n",
       "3999 -135.832       1.000000    0.827173          2.0           3.0   \n",
       "\n",
       "      divergent__  energy__    alpha    sigma      beta  ...  height_pred[41]  \\\n",
       "0             0.0   135.279  154.064  11.5889  0.702025  ...          144.283   \n",
       "1             0.0   134.746  153.085  10.8085  0.919494  ...          146.337   \n",
       "2             0.0   136.653  152.140  13.5648  1.033990  ...          158.117   \n",
       "3             0.0   135.581  151.983  12.7357  1.040630  ...          131.292   \n",
       "4             0.0   134.891  153.259  12.5120  1.069140  ...          157.115   \n",
       "...           ...       ...      ...      ...       ...  ...              ...   \n",
       "3995          0.0   137.701  152.266  12.0405  1.092100  ...          170.795   \n",
       "3996          0.0   134.641  152.356  11.4726  0.953501  ...          169.243   \n",
       "3997          0.0   135.073  155.943  12.1262  0.911222  ...          164.846   \n",
       "3998          0.0   137.144  151.732  10.8613  1.275190  ...          141.825   \n",
       "3999          0.0   136.659  152.133  10.7701  1.232970  ...          154.832   \n",
       "\n",
       "      height_pred[42]  height_pred[43]  height_pred[44]  height_pred[45]  \\\n",
       "0             172.315          154.418          157.237          174.801   \n",
       "1             183.619          136.827          152.716          145.959   \n",
       "2             175.466          134.892          152.233          141.014   \n",
       "3             178.733          129.170          165.255          148.212   \n",
       "4             148.353          164.409          150.154          157.618   \n",
       "...               ...              ...              ...              ...   \n",
       "3995          169.752          137.346          150.194          173.759   \n",
       "3996          179.802          161.237          152.503          155.809   \n",
       "3997          184.895          143.172          154.113          166.180   \n",
       "3998          160.624          139.892          149.560          175.844   \n",
       "3999          176.617          153.821          152.147          165.011   \n",
       "\n",
       "      height_pred[46]  height_pred[47]  height_pred[48]  height_pred[49]  \\\n",
       "0             166.062          170.641          136.889          157.836   \n",
       "1             175.383          163.927          169.069          142.217   \n",
       "2             163.226          160.837          149.946          160.776   \n",
       "3             185.405          172.831          155.456          163.505   \n",
       "4             164.676          184.849          158.944          170.148   \n",
       "...               ...              ...              ...              ...   \n",
       "3995          171.660          152.388          169.958          158.717   \n",
       "3996          154.718          161.395          163.382          157.350   \n",
       "3997          162.801          135.729          153.924          171.484   \n",
       "3998          157.569          164.257          165.014          166.936   \n",
       "3999          154.354          154.345          137.889          167.122   \n",
       "\n",
       "      height_pred[50]  \n",
       "0             165.890  \n",
       "1             177.978  \n",
       "2             171.130  \n",
       "3             137.856  \n",
       "4             157.578  \n",
       "...               ...  \n",
       "3995          141.794  \n",
       "3996          174.606  \n",
       "3997          155.919  \n",
       "3998          152.120  \n",
       "3999          143.032  \n",
       "\n",
       "[4000 rows x 110 columns]"
      ]
     },
     "execution_count": 56,
     "metadata": {},
     "output_type": "execute_result"
    }
   ],
   "source": [
    "df_7 = fit.draws_pd()\n",
    "df_7"
   ]
  },
  {
   "cell_type": "code",
   "execution_count": 61,
   "metadata": {},
   "outputs": [
    {
     "data": {
      "image/png": "[encoded data removed]",
      "text/plain": [
       "<Figure size 720x432 with 1 Axes>"
      ]
     },
     "metadata": {
      "needs_background": "light"
     },
     "output_type": "display_data"
    }
   ],
   "source": [
    "real_heights = d['height'].head(50)\n",
    "heights = df_7.iloc[:,60:110]\n",
    "mean = heights.mean()[:50]\n",
    "plt.figure(figsize=(10,6))\n",
    "plt.scatter(weights, real_heights)\n",
    "plt.scatter(weights, mean)\n",
    "plt.title(\"Mean simulated height and real height by weight\")\n",
    "plt.xlabel('weight')\n",
    "plt.ylabel('height')\n",
    "plt.legend([\"real height\", \"simulated height\"], loc='lower right')\n",
    "plt.show()"
   ]
  },
  {
   "cell_type": "code",
   "execution_count": null,
   "metadata": {},
   "outputs": [],
   "source": []
  },
  {
   "cell_type": "markdown",
   "metadata": {},
   "source": []
  }
 ],
 "metadata": {
  "kernelspec": {
   "display_name": "Python 3",
   "language": "python",
   "name": "python3"
  },
  "language_info": {
   "codemirror_mode": {
    "name": "ipython",
    "version": 3
   },
   "file_extension": ".py",
   "mimetype": "text/x-python",
   "name": "python",
   "nbconvert_exporter": "python",
   "pygments_lexer": "ipython3",
   "version": "3.9.11"
  },
  "vscode": {
   "interpreter": {
    "hash": "949777d72b0d2535278d3dc13498b2535136f6dfe0678499012e853ee9abcab1"
   }
  }
 },
 "nbformat": 4,
 "nbformat_minor": 2
}
